{
 "cells": [
  {
   "cell_type": "code",
   "execution_count": 40,
   "metadata": {},
   "outputs": [],
   "source": [
    "import pandas as pd\n",
    "from Bio import SeqIO\n",
    "from Bio.SeqUtils import ProtParam\n",
    "import os"
   ]
  },
  {
   "cell_type": "code",
   "execution_count": 41,
   "metadata": {},
   "outputs": [],
   "source": [
    "file_path = \"files/sprot_human.fasta\""
   ]
  },
  {
   "cell_type": "code",
   "execution_count": 33,
   "metadata": {},
   "outputs": [],
   "source": [
    "#sequences = [i for i in SeqIO.parse(file_path,'fasta')]\n",
    "#len(sequences)"
   ]
  },
  {
   "cell_type": "code",
   "execution_count": 34,
   "metadata": {},
   "outputs": [],
   "source": [
    "def assignment(file_path, enzyme_rule, NTT, missed_cleavages, peptide_length):\n",
    "    \"\"\"\n",
    "    function description - later\n",
    "    \"\"\"\n",
    "    peptides = []\n",
    "    with open(file_path) as handle:\n",
    "        for record in SeqIO.parse(handle, \"fasta\"):\n",
    "            prot_seq = str(record.seq)\n",
    "            prot_header = record.description\n",
    "\n",
    "            for i in range(len(prot_seq)):\n",
    "                for j in range(i + peptide_length[0], min(i + peptide_length[1] + 1, len(prot_seq))):\n",
    "                    peptide_seq = prot_seq[i:j]\n",
    "                    pep_len = len(peptide_seq)\n",
    "                    pep_NTT = 0\n",
    "\n",
    "                    if peptide_seq[0] not in enzyme_rule:\n",
    "                        continue\n",
    "                    if peptide_seq[-1] not in enzyme_rule:\n",
    "                        continue\n",
    "                    if pep_len < peptide_length[0] or pep_len > peptide_length[1]:\n",
    "                        continue\n",
    "                    for k in range(1, pep_len):\n",
    "                        if peptide_seq[k-1] in enzyme_rule and peptide_seq[k] not in enzyme_rule:\n",
    "                            pep_NTT += 1\n",
    "                    if pep_NTT > NTT:\n",
    "                        continue\n",
    "\n",
    "                    for k in range(1, missed_cleavages+2):\n",
    "                        for l in range(pep_len-k+1):\n",
    "                            missed_sites = [pos for pos, char in enumerate(peptide_seq) if char not in enzyme_rule]\n",
    "                            if l not in missed_sites:\n",
    "                                pep_missed_cleavages = k-1\n",
    "                                peptide_num = len(peptides) + 1\n",
    "                                peptides.append({\n",
    "                                    \"protein_header\": prot_header,\n",
    "                                    \"protein_seq\": prot_seq,\n",
    "                                    \"peptide_number\": peptide_num,\n",
    "                                    \"peptide_sequence\": peptide_seq,\n",
    "                                    \"peptide_length\": pep_len,\n",
    "                                    \"peptide_NTT\": pep_NTT,\n",
    "                                    \"peptide_missed_cleavages\": pep_missed_cleavages\n",
    "                                })\n",
    "    return peptides"
   ]
  },
  {
   "cell_type": "code",
   "execution_count": 47,
   "metadata": {},
   "outputs": [],
   "source": [
    "def print_peptide_of_interest(peptides,cleavage_rules,min_length,max_length):\n",
    "    peptides = assignment(file_path,cleavage_rules,min_length,max_length,[7,20])\n",
    "    for i, peptide in enumerate(peptides):\n",
    "        sequence = peptide['sequence']\n",
    "        NTT = peptide['NTT']\n",
    "        missed_cleavages = peptide['missed_cleavages']\n",
    "        length = peptide['length']\n",
    "        start = peptide['start'] + 1\n",
    "        end = peptide['end'] + 1\n",
    "        prefix = sequence[0]\n",
    "        suffix = sequence[-1]\n",
    "        print(f\"{i+1}. ({prefix}){sequence[1:-1]}({suffix}), {end-start}, {NTT}, {missed_cleavages}\")\n"
   ]
  },
  {
   "cell_type": "code",
   "execution_count": 46,
   "metadata": {},
   "outputs": [
    {
     "ename": "AttributeError",
     "evalue": "'list' object has no attribute 'id'",
     "output_type": "error",
     "traceback": [
      "\u001b[1;31m---------------------------------------------------------------------------\u001b[0m",
      "\u001b[1;31mAttributeError\u001b[0m                            Traceback (most recent call last)",
      "Cell \u001b[1;32mIn[46], line 5\u001b[0m\n\u001b[0;32m      2\u001b[0m min_length \u001b[39m=\u001b[39m \u001b[39m2\u001b[39m\n\u001b[0;32m      3\u001b[0m max_length \u001b[39m=\u001b[39m \u001b[39m20\u001b[39m\n\u001b[1;32m----> 5\u001b[0m print_peptide_of_interest(file_path, cleavage_rules, min_length, max_length)\n",
      "Cell \u001b[1;32mIn[45], line 4\u001b[0m, in \u001b[0;36mprint_peptide_of_interest\u001b[1;34m(peptides, cleavage_rules, min_length, max_length)\u001b[0m\n\u001b[0;32m      2\u001b[0m \u001b[39mdef\u001b[39;00m \u001b[39mprint_peptide_of_interest\u001b[39m(peptides,cleavage_rules,min_length,max_length):\n\u001b[0;32m      3\u001b[0m     peptides \u001b[39m=\u001b[39m assignment(file_path,cleavage_rules,min_length,max_length,[\u001b[39m7\u001b[39m,\u001b[39m20\u001b[39m])\n\u001b[1;32m----> 4\u001b[0m     \u001b[39mprint\u001b[39m(\u001b[39mf\u001b[39m\u001b[39m\"\u001b[39m\u001b[39m>\u001b[39m\u001b[39m{\u001b[39;00mpeptides\u001b[39m.\u001b[39mid\u001b[39m}\u001b[39;00m\u001b[39m{\u001b[39;00mpeptides\u001b[39m.\u001b[39mdescription\u001b[39m}\u001b[39;00m\u001b[39m\"\u001b[39m)\n\u001b[0;32m      6\u001b[0m     \u001b[39mfor\u001b[39;00m i, peptide \u001b[39min\u001b[39;00m \u001b[39menumerate\u001b[39m(peptides):\n\u001b[0;32m      7\u001b[0m         sequence \u001b[39m=\u001b[39m peptide[\u001b[39m'\u001b[39m\u001b[39msequence\u001b[39m\u001b[39m'\u001b[39m]\n",
      "\u001b[1;31mAttributeError\u001b[0m: 'list' object has no attribute 'id'"
     ]
    }
   ],
   "source": [
    "cleavage_rules = [[\"R\", \"K\"], \"C\"]\n",
    "min_length = 2\n",
    "max_length = 20\n",
    "\n",
    "print_peptide_of_interest(file_path, cleavage_rules, min_length, max_length)"
   ]
  },
  {
   "cell_type": "code",
   "execution_count": 38,
   "metadata": {},
   "outputs": [],
   "source": [
    "# Saving the Output instead of just printing it\n",
    "from Bio.Seq import Seq\n",
    "from Bio.SeqRecord import SeqRecord\n",
    "from Bio import SeqIO\n",
    "output_file = 'files/output.fasta'\n",
    "def save_peptide_of_interest(protein, cleavage_rules, min_length, max_length, output_file):\n",
    "    peptides = assignment(file_path, cleavage_rules, min_length, max_length, [7,20])\n",
    "    \n",
    "    records = []\n",
    "    for i, peptide in enumerate(peptides):\n",
    "        sequence = peptide['sequence']\n",
    "        NTT = peptide['NTT']\n",
    "        missed_cleavages = peptide['missed_cleavages']\n",
    "        length = peptide['length']\n",
    "        start = peptide['start'] + 1\n",
    "        end = peptide['end'] + 1\n",
    "        prefix = sequence[0]\n",
    "        suffix = sequence[-1]\n",
    "        description = f\"({prefix}){sequence[1:-1]}({suffix}), {end-start}, {NTT}, {missed_cleavages}\"\n",
    "        record = SeqRecord(Seq(sequence), id=f\"{protein.id}_{i+1}\", description=description)\n",
    "        records.append(record)\n",
    "    \n",
    "    SeqIO.write(records, 'files/output.fasta', \"fasta\")\n"
   ]
  },
  {
   "cell_type": "code",
   "execution_count": 39,
   "metadata": {},
   "outputs": [],
   "source": [
    "#SeqIO.write(gene_of_interest,'Spring Semester/Proteomics Analysis/Home Work/output/output.xml','fasta')"
   ]
  }
 ],
 "metadata": {
  "kernelspec": {
   "display_name": "bioinformatics",
   "language": "python",
   "name": "python3"
  },
  "language_info": {
   "codemirror_mode": {
    "name": "ipython",
    "version": 3
   },
   "file_extension": ".py",
   "mimetype": "text/x-python",
   "name": "python",
   "nbconvert_exporter": "python",
   "pygments_lexer": "ipython3",
   "version": "3.8.16"
  },
  "orig_nbformat": 4
 },
 "nbformat": 4,
 "nbformat_minor": 2
}
