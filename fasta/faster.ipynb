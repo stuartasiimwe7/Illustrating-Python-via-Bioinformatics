{
 "cells": [
  {
   "cell_type": "code",
   "execution_count": 13,
   "metadata": {},
   "outputs": [],
   "source": [
    "import pandas as pd\n",
    "from Bio import SeqIO\n",
    "import os"
   ]
  },
  {
   "cell_type": "code",
   "execution_count": 14,
   "metadata": {},
   "outputs": [],
   "source": [
    "file_path = \"files/sprot_human.fasta\""
   ]
  },
  {
   "cell_type": "code",
   "execution_count": 15,
   "metadata": {},
   "outputs": [],
   "source": [
    "sequences = [i for i in SeqIO.parse(file_path,'fasta')]"
   ]
  },
  {
   "cell_type": "code",
   "execution_count": 16,
   "metadata": {},
   "outputs": [
    {
     "data": {
      "text/plain": [
       "20341"
      ]
     },
     "execution_count": 16,
     "metadata": {},
     "output_type": "execute_result"
    }
   ],
   "source": [
    "len(sequences)"
   ]
  },
  {
   "cell_type": "code",
   "execution_count": null,
   "metadata": {},
   "outputs": [],
   "source": [
    "def assignment(protein_seq,enzyme_rule,ntt,missed_cleavages,peptide_length):\n",
    "    peptides = []\n",
    "    for i in range(len(protein_seq)):\n",
    "        for j in range(i + peptide_length[0],min(i + peptide_length[1]+1,len(protein_seq))):\n",
    "            peptide_seq =  protein_seq[i:j]\n",
    "\n",
    "            #check if peptide meets enzyme criteria\n",
    "            isenzyme_rule_okay = true\n",
    "            if isenzyme_rule_okay(peptide_seq,enzyme_rule):\n",
    "                num_missed_cleavages = \n"
   ]
  },
  {
   "cell_type": "code",
   "execution_count": null,
   "metadata": {},
   "outputs": [],
   "source": [
    "from Bio import SeqIO\n",
    "\n",
    "def load_protein_seq(file_path):\n",
    "    \"\"\"\n",
    "    Load protein sequence from a FASTA file.\n",
    "    \n",
    "    Args:\n",
    "    - file_path (str): path to the FASTA file\n",
    "    \n",
    "    Returns:\n",
    "    - protein_seq (str): the protein sequence as a string\n",
    "    \"\"\"\n",
    "    with open(file_path, 'r') as handle:\n",
    "        for record in SeqIO.parse(handle, 'fasta'):\n",
    "            protein_seq = str(record.seq)\n",
    "            return protein_seq\n"
   ]
  }
 ],
 "metadata": {
  "kernelspec": {
   "display_name": "bioinformatics",
   "language": "python",
   "name": "python3"
  },
  "language_info": {
   "codemirror_mode": {
    "name": "ipython",
    "version": 3
   },
   "file_extension": ".py",
   "mimetype": "text/x-python",
   "name": "python",
   "nbconvert_exporter": "python",
   "pygments_lexer": "ipython3",
   "version": "3.8.16"
  },
  "orig_nbformat": 4
 },
 "nbformat": 4,
 "nbformat_minor": 2
}
