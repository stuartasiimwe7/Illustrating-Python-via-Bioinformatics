{
 "cells": [
  {
   "cell_type": "code",
   "execution_count": 1,
   "metadata": {},
   "outputs": [],
   "source": [
    "import pandas as pd\n",
    "from Bio import SeqIO\n",
    "from Bio.SeqUtils import ProtParam\n",
    "import os"
   ]
  },
  {
   "cell_type": "code",
   "execution_count": 2,
   "metadata": {},
   "outputs": [],
   "source": [
    "file_path = \"files/sprot_human.fasta\""
   ]
  },
  {
   "cell_type": "code",
   "execution_count": 15,
   "metadata": {},
   "outputs": [],
   "source": [
    "#sequences = [i for i in SeqIO.parse(file_path,'fasta')]\n",
    "#len(sequences)"
   ]
  },
  {
   "cell_type": "code",
   "execution_count": null,
   "metadata": {},
   "outputs": [],
   "source": [
    "'''\n",
    "def assignment(protein_seq,enzyme_rule,ntt,missed_cleavages,peptide_length):\n",
    "    peptides = []\n",
    "    for i in range(len(protein_seq)):\n",
    "        for j in range(i + peptide_length[0],min(i + peptide_length[1]+1,len(protein_seq))):\n",
    "            peptide_seq =  protein_seq[i:j]\n",
    "\n",
    "            #check if peptide meets enzyme criteria\n",
    "            isenzyme_rule_okay = true\n",
    "            if isenzyme_rule_okay(peptide_seq,enzyme_rule):\n",
    "                num_missed_cleavages = \n",
    "\n",
    "'''\n"
   ]
  },
  {
   "cell_type": "code",
   "execution_count": 4,
   "metadata": {},
   "outputs": [],
   "source": [
    "def assignment(file_path, enzyme_rule, NTT, missed_cleavages, peptide_length):\n",
    "    \"\"\"\n",
    "    Generates peptide substrings from protein sequences based on enzyme cleavage rules and other parameters.\n",
    "    \n",
    "    Args:\n",
    "    file_path (str): File path to the protein sequences in FASTA format.\n",
    "    enzyme_rule (list): A list of amino acid residue(s) that define the cleavage rule of the enzyme used.\n",
    "                        For example, ['R', 'K'] for Trypsin.\n",
    "    NTT (int): Number of Enzymatic Termini (NET) allowed.\n",
    "    missed_cleavages (int): Number of missed cleavage sites allowed.\n",
    "    peptide_length (list): A list of two integers representing the minimum and maximum length of the generated peptide substrings.\n",
    "    \n",
    "    Returns:\n",
    "    peptides (list): A list of dictionaries containing peptide information such as the protein header and sequence,\n",
    "                     peptide number, peptide sequence, peptide length, NTT, and missed cleavages.\n",
    "    \"\"\"\n",
    "    peptides = []\n",
    "    with open(file_path) as handle:\n",
    "        for record in SeqIO.parse(handle, \"fasta\"):\n",
    "            prot_seq = str(record.seq)\n",
    "            prot_header = record.description\n",
    "\n",
    "            for i in range(len(prot_seq)):\n",
    "                for j in range(i + peptide_length[0], min(i + peptide_length[1] + 1, len(prot_seq))):\n",
    "                    peptide_seq = prot_seq[i:j]\n",
    "                    pep_len = len(peptide_seq)\n",
    "                    pep_NTT = 0\n",
    "\n",
    "                    if peptide_seq[0] not in enzyme_rule:\n",
    "                        continue\n",
    "                    if peptide_seq[-1] not in enzyme_rule:\n",
    "                        continue\n",
    "                    if pep_len < peptide_length[0] or pep_len > peptide_length[1]:\n",
    "                        continue\n",
    "                    for k in range(1, pep_len):\n",
    "                        if peptide_seq[k-1] in enzyme_rule and peptide_seq[k] not in enzyme_rule:\n",
    "                            pep_NTT += 1\n",
    "                    if pep_NTT > NTT:\n",
    "                        continue\n",
    "\n",
    "                    for k in range(1, missed_cleavages+2):\n",
    "                        for l in range(pep_len-k+1):\n",
    "                            missed_sites = [pos for pos, char in enumerate(peptide_seq) if char not in enzyme_rule]\n",
    "                            if l not in missed_sites:\n",
    "                                pep_missed_cleavages = k-1\n",
    "                                peptide_num = len(peptides) + 1\n",
    "                                peptides.append({\n",
    "                                    \"protein_header\": prot_header,\n",
    "                                    \"protein_seq\": prot_seq,\n",
    "                                    \"peptide_number\": peptide_num,\n",
    "                                    \"peptide_sequence\": peptide_seq,\n",
    "                                    \"peptide_length\": pep_len,\n",
    "                                    \"peptide_NTT\": pep_NTT,\n",
    "                                    \"peptide_missed_cleavages\": pep_missed_cleavages\n",
    "                                })\n",
    "    return peptides"
   ]
  },
  {
   "cell_type": "code",
   "execution_count": 5,
   "metadata": {},
   "outputs": [],
   "source": [
    "peptides = assignment(file_path, ['R', 'K'], 2, 1, [7,20])"
   ]
  },
  {
   "cell_type": "code",
   "execution_count": 22,
   "metadata": {},
   "outputs": [
    {
     "ename": "KeyError",
     "evalue": "'pep_NTT'",
     "output_type": "error",
     "traceback": [
      "\u001b[1;31m---------------------------------------------------------------------------\u001b[0m",
      "\u001b[1;31mKeyError\u001b[0m                                  Traceback (most recent call last)",
      "Cell \u001b[1;32mIn[22], line 2\u001b[0m\n\u001b[0;32m      1\u001b[0m \u001b[39mfor\u001b[39;00m i, peptide \u001b[39min\u001b[39;00m \u001b[39menumerate\u001b[39m(peptides):\n\u001b[1;32m----> 2\u001b[0m     \u001b[39mprint\u001b[39m(\u001b[39mf\u001b[39m\u001b[39m\"\u001b[39m\u001b[39m{\u001b[39;00mi\u001b[39m+\u001b[39m\u001b[39m1\u001b[39m\u001b[39m}\u001b[39;00m\u001b[39m. (\u001b[39m\u001b[39m{\u001b[39;00mpeptide[\u001b[39m'\u001b[39m\u001b[39mpep_NTT\u001b[39m\u001b[39m'\u001b[39m]\u001b[39m}\u001b[39;00m\u001b[39m, \u001b[39m\u001b[39m{\u001b[39;00mpeptide[\u001b[39m'\u001b[39m\u001b[39m peptide_missed_cleavages\u001b[39m\u001b[39m'\u001b[39m]\u001b[39m}\u001b[39;00m\u001b[39m), \u001b[39m\u001b[39m{\u001b[39;00mpeptide[\u001b[39m'\u001b[39m\u001b[39mpeptide_sequence\u001b[39m\u001b[39m'\u001b[39m]\u001b[39m}\u001b[39;00m\u001b[39m, \u001b[39m\u001b[39m{\u001b[39;00mpeptide[\u001b[39m'\u001b[39m\u001b[39mpeptide_length\u001b[39m\u001b[39m'\u001b[39m]\u001b[39m}\u001b[39;00m\u001b[39m\"\u001b[39m)\n",
      "\u001b[1;31mKeyError\u001b[0m: 'pep_NTT'"
     ]
    }
   ],
   "source": [
    "for i, peptide in enumerate(peptides):\n",
    "    print(f\"{i+1}. ({peptide['peptide_NTT']}, {peptide['peptide_missed_cleavages']}), {peptide['peptide_sequence']}, {peptide['peptide_length']}\")\n"
   ]
  },
  {
   "cell_type": "code",
   "execution_count": 21,
   "metadata": {},
   "outputs": [
    {
     "ename": "FileNotFoundError",
     "evalue": "[Errno 2] No such file or directory: 'MDDREDLVYQAKLAEQAERYDEMVESMKKVAGMDVELTVEERNLLSVAYKNVIGARRASWRIISSIEQKEENKGGEDKLKMIREYRQMVETELKLICCDILDVLDKHLIPAANTGESKVFYYKMKGDYHRYLAEFATGNDRKEAAENSLVAYKAASDIAMTELPPTHPIRLGLALNFSVFYYEILNSPDRACRLAKAAFDDAIAELDTLSEESYKDSTLIMQLLRDNLTLWTSDMQGDGEEQNKEALQDVEDENQ'",
     "output_type": "error",
     "traceback": [
      "\u001b[1;31m---------------------------------------------------------------------------\u001b[0m",
      "\u001b[1;31mFileNotFoundError\u001b[0m                         Traceback (most recent call last)",
      "Cell \u001b[1;32mIn[21], line 5\u001b[0m\n\u001b[0;32m      2\u001b[0m sequences \u001b[39m=\u001b[39m [\u001b[39mstr\u001b[39m(record\u001b[39m.\u001b[39mseq) \u001b[39mfor\u001b[39;00m record \u001b[39min\u001b[39;00m SeqIO\u001b[39m.\u001b[39mparse(file_path, \u001b[39m\"\u001b[39m\u001b[39mfasta\u001b[39m\u001b[39m\"\u001b[39m)]\n\u001b[0;32m      4\u001b[0m \u001b[39m# Call the generate_peptides function for the first protein sequence\u001b[39;00m\n\u001b[1;32m----> 5\u001b[0m peptides \u001b[39m=\u001b[39m assignment(sequences[\u001b[39m0\u001b[39;49m], [[\u001b[39m'\u001b[39;49m\u001b[39mR\u001b[39;49m\u001b[39m'\u001b[39;49m, \u001b[39m'\u001b[39;49m\u001b[39mK\u001b[39;49m\u001b[39m'\u001b[39;49m], \u001b[39m'\u001b[39;49m\u001b[39mC\u001b[39;49m\u001b[39m'\u001b[39;49m], \u001b[39m2\u001b[39;49m, \u001b[39m1\u001b[39;49m, [\u001b[39m7\u001b[39;49m, \u001b[39m20\u001b[39;49m])\n\u001b[0;32m      7\u001b[0m \u001b[39m# Print the resulting peptides\u001b[39;00m\n\u001b[0;32m      8\u001b[0m \u001b[39mfor\u001b[39;00m i, peptide \u001b[39min\u001b[39;00m \u001b[39menumerate\u001b[39m(peptides):\n",
      "Cell \u001b[1;32mIn[4], line 18\u001b[0m, in \u001b[0;36massignment\u001b[1;34m(file_path, enzyme_rule, NTT, missed_cleavages, peptide_length)\u001b[0m\n\u001b[0;32m      2\u001b[0m \u001b[39m\u001b[39m\u001b[39m\"\"\"\u001b[39;00m\n\u001b[0;32m      3\u001b[0m \u001b[39mGenerates peptide substrings from protein sequences based on enzyme cleavage rules and other parameters.\u001b[39;00m\n\u001b[0;32m      4\u001b[0m \u001b[39m\u001b[39;00m\n\u001b[1;32m   (...)\u001b[0m\n\u001b[0;32m     15\u001b[0m \u001b[39m                 peptide number, peptide sequence, peptide length, NTT, and missed cleavages.\u001b[39;00m\n\u001b[0;32m     16\u001b[0m \u001b[39m\"\"\"\u001b[39;00m\n\u001b[0;32m     17\u001b[0m peptides \u001b[39m=\u001b[39m []\n\u001b[1;32m---> 18\u001b[0m \u001b[39mwith\u001b[39;00m \u001b[39mopen\u001b[39;49m(file_path) \u001b[39mas\u001b[39;00m handle:\n\u001b[0;32m     19\u001b[0m     \u001b[39mfor\u001b[39;00m record \u001b[39min\u001b[39;00m SeqIO\u001b[39m.\u001b[39mparse(handle, \u001b[39m\"\u001b[39m\u001b[39mfasta\u001b[39m\u001b[39m\"\u001b[39m):\n\u001b[0;32m     20\u001b[0m         prot_seq \u001b[39m=\u001b[39m \u001b[39mstr\u001b[39m(record\u001b[39m.\u001b[39mseq)\n",
      "File \u001b[1;32mc:\\Users\\Asiimwe\\anaconda3\\envs\\bioinformatics\\lib\\site-packages\\IPython\\core\\interactiveshell.py:282\u001b[0m, in \u001b[0;36m_modified_open\u001b[1;34m(file, *args, **kwargs)\u001b[0m\n\u001b[0;32m    275\u001b[0m \u001b[39mif\u001b[39;00m file \u001b[39min\u001b[39;00m {\u001b[39m0\u001b[39m, \u001b[39m1\u001b[39m, \u001b[39m2\u001b[39m}:\n\u001b[0;32m    276\u001b[0m     \u001b[39mraise\u001b[39;00m \u001b[39mValueError\u001b[39;00m(\n\u001b[0;32m    277\u001b[0m         \u001b[39mf\u001b[39m\u001b[39m\"\u001b[39m\u001b[39mIPython won\u001b[39m\u001b[39m'\u001b[39m\u001b[39mt let you open fd=\u001b[39m\u001b[39m{\u001b[39;00mfile\u001b[39m}\u001b[39;00m\u001b[39m by default \u001b[39m\u001b[39m\"\u001b[39m\n\u001b[0;32m    278\u001b[0m         \u001b[39m\"\u001b[39m\u001b[39mas it is likely to crash IPython. If you know what you are doing, \u001b[39m\u001b[39m\"\u001b[39m\n\u001b[0;32m    279\u001b[0m         \u001b[39m\"\u001b[39m\u001b[39myou can use builtins\u001b[39m\u001b[39m'\u001b[39m\u001b[39m open.\u001b[39m\u001b[39m\"\u001b[39m\n\u001b[0;32m    280\u001b[0m     )\n\u001b[1;32m--> 282\u001b[0m \u001b[39mreturn\u001b[39;00m io_open(file, \u001b[39m*\u001b[39;49margs, \u001b[39m*\u001b[39;49m\u001b[39m*\u001b[39;49mkwargs)\n",
      "\u001b[1;31mFileNotFoundError\u001b[0m: [Errno 2] No such file or directory: 'MDDREDLVYQAKLAEQAERYDEMVESMKKVAGMDVELTVEERNLLSVAYKNVIGARRASWRIISSIEQKEENKGGEDKLKMIREYRQMVETELKLICCDILDVLDKHLIPAANTGESKVFYYKMKGDYHRYLAEFATGNDRKEAAENSLVAYKAASDIAMTELPPTHPIRLGLALNFSVFYYEILNSPDRACRLAKAAFDDAIAELDTLSEESYKDSTLIMQLLRDNLTLWTSDMQGDGEEQNKEALQDVEDENQ'"
     ]
    }
   ],
   "source": [
    "# Load the protein sequences from the fasta file\n",
    "sequences = [str(record.seq) for record in SeqIO.parse(file_path, \"fasta\")]\n",
    "\n",
    "# Call the generate_peptides function for the first protein sequence\n",
    "peptides = assignment(sequences[0], [['R', 'K'], 'C'], 2, 1, [7, 20])\n",
    "\n",
    "# Print the resulting peptides\n",
    "for i, peptide in enumerate(peptides):\n",
    "    print(f\"{i+1}. ({peptide['ntt']}){peptide['sequence']}, {peptide['length']}, {peptide['missed_cleavages']}\")\n"
   ]
  }
 ],
 "metadata": {
  "kernelspec": {
   "display_name": "bioinformatics",
   "language": "python",
   "name": "python3"
  },
  "language_info": {
   "codemirror_mode": {
    "name": "ipython",
    "version": 3
   },
   "file_extension": ".py",
   "mimetype": "text/x-python",
   "name": "python",
   "nbconvert_exporter": "python",
   "pygments_lexer": "ipython3",
   "version": "3.8.16"
  },
  "orig_nbformat": 4
 },
 "nbformat": 4,
 "nbformat_minor": 2
}
