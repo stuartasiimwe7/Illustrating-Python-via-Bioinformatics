{
 "cells": [
  {
   "attachments": {},
   "cell_type": "markdown",
   "metadata": {},
   "source": [
    "### Importing the necessary libraries:"
   ]
  },
  {
   "cell_type": "code",
   "execution_count": 2,
   "metadata": {},
   "outputs": [],
   "source": [
    "from pyteomics import mgf, parser\n",
    "from Bio.SeqUtils import ProtParam"
   ]
  },
  {
   "attachments": {},
   "cell_type": "markdown",
   "metadata": {},
   "source": [
    "###  Read in the Spectral File"
   ]
  },
  {
   "cell_type": "code",
   "execution_count": 4,
   "metadata": {},
   "outputs": [],
   "source": [
    "spectral_file = \"data/spectral_file.mgf\"\n",
    "\n",
    "with mgf.read(spectral_file) as spectra:\n",
    "    for spectrum in spectra:\n",
    "        # extract relevant information from each spectrum\n",
    "        scan_num = spectrum['params']['title']\n",
    "        precursor_mz = spectrum['params']['pepmass'][0]\n",
    "        precursor_charge = spectrum['params']['charge'][0]\n",
    "        peaks = spectrum['m/z array']\n",
    "        intensities = spectrum['intensity array']\n",
    "        # process peaks and intensities..."
   ]
  },
  {
   "attachments": {},
   "cell_type": "markdown",
   "metadata": {},
   "source": [
    "###  Read in the peptide sequence file "
   ]
  },
  {
   "cell_type": "code",
   "execution_count": 5,
   "metadata": {},
   "outputs": [],
   "source": [
    "peptide_file = 'data/psmlist.txt'\n",
    "\n",
    "# Ion types to consider\n",
    "ion_types = ['b', 'y']\n",
    "\n",
    "# Fragment charge states to consider\n",
    "charge_states = [1, 2]\n",
    "\n",
    "# Fragment mass tolerance (in Da)\n",
    "fragment_tol = 0.5\n",
    "\n",
    "peptide_dict = {}"
   ]
  },
  {
   "cell_type": "code",
   "execution_count": 14,
   "metadata": {},
   "outputs": [
    {
     "ename": "ValueError",
     "evalue": "not enough values to unpack (expected 5, got 1)",
     "output_type": "error",
     "traceback": [
      "\u001b[1;31m---------------------------------------------------------------------------\u001b[0m",
      "\u001b[1;31mValueError\u001b[0m                                Traceback (most recent call last)",
      "Cell \u001b[1;32mIn[14], line 3\u001b[0m\n\u001b[0;32m      1\u001b[0m \u001b[39mwith\u001b[39;00m \u001b[39mopen\u001b[39m(peptide_file, \u001b[39m'\u001b[39m\u001b[39mr\u001b[39m\u001b[39m'\u001b[39m) \u001b[39mas\u001b[39;00m f:\n\u001b[0;32m      2\u001b[0m     \u001b[39mfor\u001b[39;00m line \u001b[39min\u001b[39;00m f:\n\u001b[1;32m----> 3\u001b[0m         SpecFile, ScanNum, PrecursorMZ, Charge, Peptide \u001b[39m=\u001b[39m line\u001b[39m.\u001b[39mstrip()\u001b[39m.\u001b[39msplit(\u001b[39m'\u001b[39m\u001b[39m\\t\u001b[39;00m\u001b[39m'\u001b[39m)\n\u001b[0;32m      4\u001b[0m         peptide_dict[Peptide] \u001b[39m=\u001b[39m (SpecFile, ScanNum, PrecursorMZ, Charge, Peptide)\n",
      "\u001b[1;31mValueError\u001b[0m: not enough values to unpack (expected 5, got 1)"
     ]
    }
   ],
   "source": [
    "with open(peptide_file, 'r') as f:\n",
    "    for line in f:\n",
    "        SpecFile, ScanNum, PrecursorMZ, Charge, Peptide = line.strip().split('\\t')\n",
    "        peptide_dict[Peptide] = (SpecFile, ScanNum, PrecursorMZ, Charge, Peptide)"
   ]
  },
  {
   "cell_type": "code",
   "execution_count": null,
   "metadata": {},
   "outputs": [],
   "source": [
    "for peptide, (spec_file, scan_num, precursor_mz, charge) in peptide_dict.items():\n",
    "   # Print some information about the current peptide\n",
    "    print(f\"Processing peptide: {peptide}, SpecFile: {spec_file}, ScanNum: {scan_num}\")\n",
    "\n",
    "    # Convert precursor_mz and charge to floats\n",
    "    precursor_mz = float(precursor_mz)\n",
    "    charge = int(charge)\n",
    "\n",
    "    # Calculate the precursor mass from m/z and charge\n",
    "    precursor_mass = precursor_mz * charge - charge * mass.proton\n",
    "\n",
    "    # Generate theoretical peak list for each ion type and charge state\n",
    "    for ion_type in ion_types:\n",
    "        for c in range(1, charge + 1):\n",
    "            ion_series = ion_type + str(c) + '+'\n",
    "            ion_masses = mass.fast_mass(\n",
    "                ion_series,\n",
    "                seq=peptide,\n",
    "                ion_type=ion_type,\n",
    "                charge=c,\n",
    "                aa_mass=mass.std_aa_mass,\n",
    "                terminus_mass=mass.std_terminus_mass,\n",
    "                ion_masses={'y': mass.fast_mass('y', seq=peptide, ion_type='y', charge=c, aa_mass=mass.std_aa_mass, terminus_mass=mass.std_terminus_mass)}\n",
    "            )\n",
    "\n",
    "            # Filter theoretical peaks based on fragment mass tolerance\n",
    "            for i, ion_mass in enumerate(ion_masses):\n",
    "                for neutral_loss in [0.0, mass.water, mass.ammonia]:\n",
    "                    ion_mass_nl = ion_mass - neutral_loss\n",
    "                    if abs(ion_mass_nl - precursor_mass) <= fragment_tol:\n",
    "                        # Print annotated peak for current ion type, charge state, and neutral loss\n",
    "                        print(f\"{ion_series}\\t{ion_mass_nl:.4f}\\t{ion_mass_nl - precursor_mass:.4f}\")\n"
   ]
  },
  {
   "attachments": {},
   "cell_type": "markdown",
   "metadata": {},
   "source": [
    "### Generate the theoretical peak list for each peptide:"
   ]
  },
  {
   "cell_type": "code",
   "execution_count": 3,
   "metadata": {},
   "outputs": [],
   "source": [
    "def get_fragment_masses(peptide, ion_type):\n",
    "    \"\"\"\n",
    "    Calculate the expected masses of fragment ions for a given peptide sequence and ion type\n",
    "    \"\"\"\n",
    "    prot_param = ProtParam.ProteinAnalysis(str(peptide))\n",
    "    aa_masses = prot_param.monoisotopic_counts\n",
    "\n",
    "    if ion_type == 'y':\n",
    "        ion_masses = [sum(aa_masses[i:]) + 19.0178 for i in range(len(aa_masses))]  # add mass of H2O\n",
    "    elif ion_type == 'b':\n",
    "        ion_masses = [sum(aa_masses[:i]) + 1.0078 for i in range(len(aa_masses))]  # add mass of H\n",
    "\n",
    "    return ion_masses\n",
    "\n",
    "\n",
    "def get_peak_list(peptide, ion_type, fragment_tol):\n",
    "    \"\"\"\n",
    "    Generate a theoretical peak list for a given peptide sequence, ion type, and fragment mass tolerance\n",
    "    \"\"\"\n",
    "    fragment_masses = get_fragment_masses(peptide, ion_type)\n",
    "    peak_list = []\n",
    "\n",
    "    for i, ion_mass in enumerate(fragment_masses):\n",
    "        if i == 0:\n",
    "            continue\n",
    "        diff = ion_mass - fragment_masses[i-1]\n",
    "        if abs(diff - 1.0078) <= fragment_tol:\n",
    "            peak_list.append({'ion_type': ion_type, 'ion_num': i, 'mass': ion_mass, 'intensity': 1.0})\n",
    "\n",
    "    return peak_list\n",
    "\n",
    "\n",
    "theoretical_peak_lists = []\n",
    "for peptide in peptides:\n",
    "    peak_list = get_peak_list(peptide['peptide_seq'], ion_type, fragment_tol)\n",
    "    theoretical_peak_lists.append({'scan_num': peptide['scan_num'], 'peak_list': peak_list})\n"
   ]
  },
  {
   "attachments": {},
   "cell_type": "markdown",
   "metadata": {},
   "source": [
    "### Annotate the peaks in the spectral file:"
   ]
  },
  {
   "cell_type": "code",
   "execution_count": 4,
   "metadata": {},
   "outputs": [
    {
     "ename": "SyntaxError",
     "evalue": "unexpected EOF while parsing (948253125.py, line 8)",
     "output_type": "error",
     "traceback": [
      "\u001b[1;36m  Cell \u001b[1;32mIn[4], line 8\u001b[1;36m\u001b[0m\n\u001b[1;33m    mod_masses = {'O': 15.994915, 'P':\u001b[0m\n\u001b[1;37m                                      ^\u001b[0m\n\u001b[1;31mSyntaxError\u001b[0m\u001b[1;31m:\u001b[0m unexpected EOF while parsing\n"
     ]
    }
   ],
   "source": [
    "def annotate_peak_list(spectrum_file: str, peptide_file: str, ion_type: str, fragment_tol: float) -> None:\n",
    "    \n",
    "    def get_fragment_ions(peptide: str, ion_type: str) -> Tuple[list, list]:\n",
    "        \"\"\"\n",
    "        Generate a list of theoretical fragment ions for a given peptide sequence and ion type.\n",
    "        Returns two lists: fragment ion names and their corresponding masses.\n",
    "        \"\"\"\n",
    "        ion_masses = []\n",
    "        ion_names = []\n",
    "        aa_masses = mass.std_aa_mass\n",
    "        prefix = ion_type[0]\n",
    "        suffix = ion_type[1]\n",
    "        charge = ion_type[2]\n",
    "        for i in range(1, len(peptide)):\n",
    "            ion_mass = sum(aa_masses[aa] for aa in peptide[:i])\n",
    "            ion_names.append(prefix + str(i) + suffix + charge)\n",
    "            ion_masses.append(ion_mass / charge)\n",
    "            if suffix == 'Y':\n",
    "                ion_masses[-1] += mass.H2O + mass.proton\n",
    "                ion_names.append(ion_names[-1] + '-H2O')\n",
    "                ion_masses.append(ion_masses[-1] + mass.H2O)\n",
    "                ion_names.append(ion_names[-2] + '-NH3')\n",
    "                ion_masses.append(ion_masses[-2] + mass.NH3)\n",
    "            else:\n",
    "                ion_names.append(ion_names[-1] + '+H2O')\n",
    "                ion_masses.append(ion_masses[-1] + mass.H2O + mass.proton)\n",
    "                ion_names.append(ion_names[-2] + '+NH3')\n",
    "                ion_masses.append(ion_masses[-2] + mass.NH3 + mass.proton)\n",
    "        return ion_names, ion_masses\n",
    "    \n",
    "    with open(peptide_file) as f:\n",
    "        for line in f:\n",
    "            spec_file, scan_num, precursor_mz, charge, peptide = line.strip().split('\\t')\n",
    "            precursor_mz = float(precursor_mz)\n",
    "            charge = int(charge)\n",
    "            spectrum = mgf.read(spectrum_file, spectrum_id=scan_num)\n",
    "            spectrum = next(spectrum)\n",
    "            spectrum = {k:v for k,v in spectrum.items() if k.startswith('m/z array') or k.startswith('intensity array')}\n",
    "            mzs = spectrum['m/z array']\n",
    "            intensities = spectrum['intensity array']\n",
    "            ion_names, ion_masses = get_fragment_ions(peptide, ion_type)\n",
    "            annotated_peaks = []\n",
    "            for name, mass in zip(ion_names, ion_masses):\n",
    "                for i, mz in enumerate(mzs):\n",
    "                    if abs(mz - mass) <= fragment_tol:\n",
    "                        annotated_peaks.append((name, mz, intensities[i]))\n",
    "            with open(f\"{spec_file}_{scan_num}.txt\", 'w') as out_file:\n",
    "                out_file.write(\"BEGIN\\n\")\n",
    "                out_file.write(f\"PEPTIDE={peptide}\\n\")\n",
    "                out_file.write(f\"TITLE={spec_file}_{scan_num}\\n\")\n",
    "                for peak in annotated_peaks:\n",
    "                    out_file.write(f\"{peak[0]}\\t{peak[1]}\\t{peak[2]}\\n\")\n",
    "                out_file.write(\"END\\n\")\n"
   ]
  },
  {
   "attachments": {},
   "cell_type": "markdown",
   "metadata": {},
   "source": [
    "## All at once"
   ]
  },
  {
   "cell_type": "code",
   "execution_count": null,
   "metadata": {},
   "outputs": [],
   "source": [
    "import re\n",
    "# Parse spectral file and peptide sequence file\n",
    "def parse_input_files(spectral_file, peptide_file):\n",
    "    spectra = {}\n",
    "    with open(spectral_file, 'r') as f:\n",
    "        spectrum_lines = f.read().splitlines()\n",
    "    i = 0\n",
    "    while i < len(spectrum_lines):\n",
    "        if spectrum_lines[i].startswith('BEGIN IONS'):\n",
    "            scan_num = None\n",
    "            precursor_mz = None\n",
    "            charge = None\n",
    "            peaks = []\n",
    "            i += 1\n",
    "            while i < len(spectrum_lines) and not spectrum_lines[i].startswith('END IONS'):\n",
    "                line = spectrum_lines[i]\n",
    "                if line.startswith('TITLE='):\n",
    "                    scan_num = int(re.findall(r'Scan (\\d+)', line)[0])\n",
    "                elif line.startswith('PEPMASS='):\n",
    "                    precursor_mz = float(line.split('=')[1])\n",
    "                elif line.startswith('CHARGE='):\n",
    "                    charge = int(line.split('=')[1].replace('+', ''))\n",
    "                elif line.count('\\t') == 1:\n",
    "                    mz, intensity = line.split('\\t')\n",
    "                    peaks.append((float(mz), float(intensity)))\n",
    "                i += 1\n",
    "            spectra[scan_num] = {'precursor_mz': precursor_mz, 'charge': charge, 'peaks': peaks}\n",
    "    \n",
    "    peptides = []\n",
    "    with open(peptide_file, 'r') as f:\n",
    "        peptide_lines = f.read().splitlines()\n",
    "    for line in peptide_lines:\n",
    "        spec_file, scan_num, precursor_mz, charge, sequence = line.split('\\t')\n",
    "        scan_num = int(scan_num)\n",
    "        precursor_mz = float(precursor_mz)\n",
    "        charge = int(charge)\n",
    "        peptides.append({'spec_file': spec_file, 'scan_num': scan_num, 'precursor_mz': precursor_mz, 'charge': charge, 'sequence': sequence})\n",
    "    \n",
    "    return spectra, peptides\n",
    "\n",
    "# Generate theoretical peak list for a given peptide\n",
    "def generate_theoretical_peak_list(peptide, ion_type, fragment_mass_tolerance):\n",
    "    aa_masses = {\n",
    "        'G': 57.02146,\n",
    "        'A': 71.03711,\n",
    "        'S': 87.03203,\n",
    "        'P': 97.05276,\n",
    "        'V': 99.06841,\n",
    "        'T': 101.04768,\n",
    "        'C': 103.00919,\n",
    "        'L': 113.08406,\n",
    "        'I': 113.08406,\n",
    "        'X': 113.08406, # Unknown amino acid, treated as Leu\n",
    "        'N': 114.04293,\n",
    "        'D': 115.02694,\n",
    "        'Q': 128.05858,\n",
    "        'K': 128.09496,\n",
    "        'E': 129.04259,\n",
    "        'M': 131.04049,\n",
    "        'H': 137.05891,\n",
    "        'F': 147.06841,\n",
    "        'R': 156.10111,\n",
    "        'Y': 163.06333,\n"
   ]
  }
 ],
 "metadata": {
  "kernelspec": {
   "display_name": "bioinformatics",
   "language": "python",
   "name": "python3"
  },
  "language_info": {
   "codemirror_mode": {
    "name": "ipython",
    "version": 3
   },
   "file_extension": ".py",
   "mimetype": "text/x-python",
   "name": "python",
   "nbconvert_exporter": "python",
   "pygments_lexer": "ipython3",
   "version": "3.8.16"
  },
  "orig_nbformat": 4
 },
 "nbformat": 4,
 "nbformat_minor": 2
}
