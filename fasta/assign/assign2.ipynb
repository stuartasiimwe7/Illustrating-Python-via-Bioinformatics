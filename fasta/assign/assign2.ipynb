{
 "cells": [
  {
   "attachments": {},
   "cell_type": "markdown",
   "metadata": {},
   "source": [
    "### Importing the necessary libraries:"
   ]
  },
  {
   "cell_type": "code",
   "execution_count": 1,
   "metadata": {},
   "outputs": [],
   "source": [
    "from pyteomics import mgf, parser\n",
    "from Bio.SeqUtils import ProtParam"
   ]
  },
  {
   "attachments": {},
   "cell_type": "markdown",
   "metadata": {},
   "source": [
    "###  Read in the Spectral File"
   ]
  },
  {
   "cell_type": "code",
   "execution_count": 2,
   "metadata": {},
   "outputs": [],
   "source": [
    "spectral_file = \"data/spectral_file.mgf\"\n",
    "\n",
    "with mgf.read(spectral_file) as spectra:\n",
    "    for spectrum in spectra:\n",
    "        # extract relevant information from each spectrum\n",
    "        scan_num = spectrum['params']['title']\n",
    "        precursor_mz = spectrum['params']['pepmass'][0]\n",
    "        precursor_charge = spectrum['params']['charge'][0]\n",
    "        peaks = spectrum['m/z array']\n",
    "        intensities = spectrum['intensity array']\n",
    "        # process peaks and intensities..."
   ]
  },
  {
   "attachments": {},
   "cell_type": "markdown",
   "metadata": {},
   "source": [
    "###  Read in the peptide sequence file "
   ]
  },
  {
   "cell_type": "code",
   "execution_count": 37,
   "metadata": {},
   "outputs": [],
   "source": [
    "peptide_file = 'data/psmlist.txt'\n",
    "\n",
    "# Ion types to consider\n",
    "ion_types = ['b', 'y']\n",
    "\n",
    "# Fragment charge states to consider\n",
    "charge_states = [1, 2]\n",
    "\n",
    "# Fragment mass tolerance (in Da)\n",
    "fragment_tol = 0.5\n",
    "\n",
    "peptide_dict = {}\n",
    "#Mass of proton is 1.0072766 a.m.u. or 1.6726 x 10^-27 kg.\n",
    "mass_proton = 1.0072766"
   ]
  },
  {
   "cell_type": "code",
   "execution_count": 30,
   "metadata": {},
   "outputs": [
    {
     "name": "stdout",
     "output_type": "stream",
     "text": [
      "{'Peptide': ('SpecFile', 'ScanNum', 'PrecursorMZ', 'Charge'), 'KQLATK': ('hw2_test.mgf', '2', '344.72076', '2'), 'KKGM+15.995GK': ('hw2_test.mgf', '64', '333.1904', '2'), 'QPC+57.021VQSPR': ('hw2_test.mgf', '141', '485.73834', '2'), '+42.011SGSTPFQMR': ('hw2_test.mgf', '162', '526.75146', '2'), 'LC+57.021MQEHM+15.995TR': ('hw2_test.mgf', '246', '612.26086', '2'), 'MIQMYSNGSSKDR': ('hw2_test.mgf', '287', '506.90698', '3'), 'HTGGC+57.021HC+57.021GAVR': ('hw2_test.mgf', '305', '404.5097', '3'), 'LASEKSEM+15.995QR': ('hw2_test.mgf', '443', '399.53128', '3'), 'ETAKLIKEGFMR': ('hw2_test.mgf', '522', '356.19543', '4'), 'KFGSENVKM+15.995IQDSGK': ('hw2_test.mgf', '1170', '421.95804', '4'), 'LYKC+57.021M+15.995EC+57.021GKAYSYR': ('hw2_test.mgf', '1509', '461.7155', '4'), 'LEVALYM+15.995FLWNPDTEAVLVAM+15.995SC+57.021FR': ('hw2_test.mgf', '32527', '602.484', '5'), 'GRPAPGFHHGDGPGNAVQEIMIPASK': ('hw2_test.mgf', '14871', '528.8663', '5'), 'IEGLDIHFIHVKPPQLPAGHTPK': ('hw2_test.mgf', '25711', '424.90677', '6')}\n",
      "{'Peptide': ('SpecFile', 'ScanNum', 'PrecursorMZ', 'Charge'), 'KQLATK': ('hw2_test.mgf', '2', '344.72076', '2'), 'KKGM+15.995GK': ('hw2_test.mgf', '64', '333.1904', '2'), 'QPC+57.021VQSPR': ('hw2_test.mgf', '141', '485.73834', '2'), '+42.011SGSTPFQMR': ('hw2_test.mgf', '162', '526.75146', '2'), 'LC+57.021MQEHM+15.995TR': ('hw2_test.mgf', '246', '612.26086', '2'), 'MIQMYSNGSSKDR': ('hw2_test.mgf', '287', '506.90698', '3'), 'HTGGC+57.021HC+57.021GAVR': ('hw2_test.mgf', '305', '404.5097', '3'), 'LASEKSEM+15.995QR': ('hw2_test.mgf', '443', '399.53128', '3'), 'ETAKLIKEGFMR': ('hw2_test.mgf', '522', '356.19543', '4'), 'KFGSENVKM+15.995IQDSGK': ('hw2_test.mgf', '1170', '421.95804', '4'), 'LYKC+57.021M+15.995EC+57.021GKAYSYR': ('hw2_test.mgf', '1509', '461.7155', '4'), 'LEVALYM+15.995FLWNPDTEAVLVAM+15.995SC+57.021FR': ('hw2_test.mgf', '32527', '602.484', '5'), 'GRPAPGFHHGDGPGNAVQEIMIPASK': ('hw2_test.mgf', '14871', '528.8663', '5'), 'IEGLDIHFIHVKPPQLPAGHTPK': ('hw2_test.mgf', '25711', '424.90677', '6')}\n",
      "{'Peptide': ('SpecFile', 'ScanNum', 'PrecursorMZ', 'Charge'), 'KQLATK': ('hw2_test.mgf', '2', '344.72076', '2'), 'KKGM+15.995GK': ('hw2_test.mgf', '64', '333.1904', '2'), 'QPC+57.021VQSPR': ('hw2_test.mgf', '141', '485.73834', '2'), '+42.011SGSTPFQMR': ('hw2_test.mgf', '162', '526.75146', '2'), 'LC+57.021MQEHM+15.995TR': ('hw2_test.mgf', '246', '612.26086', '2'), 'MIQMYSNGSSKDR': ('hw2_test.mgf', '287', '506.90698', '3'), 'HTGGC+57.021HC+57.021GAVR': ('hw2_test.mgf', '305', '404.5097', '3'), 'LASEKSEM+15.995QR': ('hw2_test.mgf', '443', '399.53128', '3'), 'ETAKLIKEGFMR': ('hw2_test.mgf', '522', '356.19543', '4'), 'KFGSENVKM+15.995IQDSGK': ('hw2_test.mgf', '1170', '421.95804', '4'), 'LYKC+57.021M+15.995EC+57.021GKAYSYR': ('hw2_test.mgf', '1509', '461.7155', '4'), 'LEVALYM+15.995FLWNPDTEAVLVAM+15.995SC+57.021FR': ('hw2_test.mgf', '32527', '602.484', '5'), 'GRPAPGFHHGDGPGNAVQEIMIPASK': ('hw2_test.mgf', '14871', '528.8663', '5'), 'IEGLDIHFIHVKPPQLPAGHTPK': ('hw2_test.mgf', '25711', '424.90677', '6')}\n",
      "{'Peptide': ('SpecFile', 'ScanNum', 'PrecursorMZ', 'Charge'), 'KQLATK': ('hw2_test.mgf', '2', '344.72076', '2'), 'KKGM+15.995GK': ('hw2_test.mgf', '64', '333.1904', '2'), 'QPC+57.021VQSPR': ('hw2_test.mgf', '141', '485.73834', '2'), '+42.011SGSTPFQMR': ('hw2_test.mgf', '162', '526.75146', '2'), 'LC+57.021MQEHM+15.995TR': ('hw2_test.mgf', '246', '612.26086', '2'), 'MIQMYSNGSSKDR': ('hw2_test.mgf', '287', '506.90698', '3'), 'HTGGC+57.021HC+57.021GAVR': ('hw2_test.mgf', '305', '404.5097', '3'), 'LASEKSEM+15.995QR': ('hw2_test.mgf', '443', '399.53128', '3'), 'ETAKLIKEGFMR': ('hw2_test.mgf', '522', '356.19543', '4'), 'KFGSENVKM+15.995IQDSGK': ('hw2_test.mgf', '1170', '421.95804', '4'), 'LYKC+57.021M+15.995EC+57.021GKAYSYR': ('hw2_test.mgf', '1509', '461.7155', '4'), 'LEVALYM+15.995FLWNPDTEAVLVAM+15.995SC+57.021FR': ('hw2_test.mgf', '32527', '602.484', '5'), 'GRPAPGFHHGDGPGNAVQEIMIPASK': ('hw2_test.mgf', '14871', '528.8663', '5'), 'IEGLDIHFIHVKPPQLPAGHTPK': ('hw2_test.mgf', '25711', '424.90677', '6')}\n",
      "{'Peptide': ('SpecFile', 'ScanNum', 'PrecursorMZ', 'Charge'), 'KQLATK': ('hw2_test.mgf', '2', '344.72076', '2'), 'KKGM+15.995GK': ('hw2_test.mgf', '64', '333.1904', '2'), 'QPC+57.021VQSPR': ('hw2_test.mgf', '141', '485.73834', '2'), '+42.011SGSTPFQMR': ('hw2_test.mgf', '162', '526.75146', '2'), 'LC+57.021MQEHM+15.995TR': ('hw2_test.mgf', '246', '612.26086', '2'), 'MIQMYSNGSSKDR': ('hw2_test.mgf', '287', '506.90698', '3'), 'HTGGC+57.021HC+57.021GAVR': ('hw2_test.mgf', '305', '404.5097', '3'), 'LASEKSEM+15.995QR': ('hw2_test.mgf', '443', '399.53128', '3'), 'ETAKLIKEGFMR': ('hw2_test.mgf', '522', '356.19543', '4'), 'KFGSENVKM+15.995IQDSGK': ('hw2_test.mgf', '1170', '421.95804', '4'), 'LYKC+57.021M+15.995EC+57.021GKAYSYR': ('hw2_test.mgf', '1509', '461.7155', '4'), 'LEVALYM+15.995FLWNPDTEAVLVAM+15.995SC+57.021FR': ('hw2_test.mgf', '32527', '602.484', '5'), 'GRPAPGFHHGDGPGNAVQEIMIPASK': ('hw2_test.mgf', '14871', '528.8663', '5'), 'IEGLDIHFIHVKPPQLPAGHTPK': ('hw2_test.mgf', '25711', '424.90677', '6')}\n",
      "{'Peptide': ('SpecFile', 'ScanNum', 'PrecursorMZ', 'Charge'), 'KQLATK': ('hw2_test.mgf', '2', '344.72076', '2'), 'KKGM+15.995GK': ('hw2_test.mgf', '64', '333.1904', '2'), 'QPC+57.021VQSPR': ('hw2_test.mgf', '141', '485.73834', '2'), '+42.011SGSTPFQMR': ('hw2_test.mgf', '162', '526.75146', '2'), 'LC+57.021MQEHM+15.995TR': ('hw2_test.mgf', '246', '612.26086', '2'), 'MIQMYSNGSSKDR': ('hw2_test.mgf', '287', '506.90698', '3'), 'HTGGC+57.021HC+57.021GAVR': ('hw2_test.mgf', '305', '404.5097', '3'), 'LASEKSEM+15.995QR': ('hw2_test.mgf', '443', '399.53128', '3'), 'ETAKLIKEGFMR': ('hw2_test.mgf', '522', '356.19543', '4'), 'KFGSENVKM+15.995IQDSGK': ('hw2_test.mgf', '1170', '421.95804', '4'), 'LYKC+57.021M+15.995EC+57.021GKAYSYR': ('hw2_test.mgf', '1509', '461.7155', '4'), 'LEVALYM+15.995FLWNPDTEAVLVAM+15.995SC+57.021FR': ('hw2_test.mgf', '32527', '602.484', '5'), 'GRPAPGFHHGDGPGNAVQEIMIPASK': ('hw2_test.mgf', '14871', '528.8663', '5'), 'IEGLDIHFIHVKPPQLPAGHTPK': ('hw2_test.mgf', '25711', '424.90677', '6')}\n",
      "{'Peptide': ('SpecFile', 'ScanNum', 'PrecursorMZ', 'Charge'), 'KQLATK': ('hw2_test.mgf', '2', '344.72076', '2'), 'KKGM+15.995GK': ('hw2_test.mgf', '64', '333.1904', '2'), 'QPC+57.021VQSPR': ('hw2_test.mgf', '141', '485.73834', '2'), '+42.011SGSTPFQMR': ('hw2_test.mgf', '162', '526.75146', '2'), 'LC+57.021MQEHM+15.995TR': ('hw2_test.mgf', '246', '612.26086', '2'), 'MIQMYSNGSSKDR': ('hw2_test.mgf', '287', '506.90698', '3'), 'HTGGC+57.021HC+57.021GAVR': ('hw2_test.mgf', '305', '404.5097', '3'), 'LASEKSEM+15.995QR': ('hw2_test.mgf', '443', '399.53128', '3'), 'ETAKLIKEGFMR': ('hw2_test.mgf', '522', '356.19543', '4'), 'KFGSENVKM+15.995IQDSGK': ('hw2_test.mgf', '1170', '421.95804', '4'), 'LYKC+57.021M+15.995EC+57.021GKAYSYR': ('hw2_test.mgf', '1509', '461.7155', '4'), 'LEVALYM+15.995FLWNPDTEAVLVAM+15.995SC+57.021FR': ('hw2_test.mgf', '32527', '602.484', '5'), 'GRPAPGFHHGDGPGNAVQEIMIPASK': ('hw2_test.mgf', '14871', '528.8663', '5'), 'IEGLDIHFIHVKPPQLPAGHTPK': ('hw2_test.mgf', '25711', '424.90677', '6')}\n",
      "{'Peptide': ('SpecFile', 'ScanNum', 'PrecursorMZ', 'Charge'), 'KQLATK': ('hw2_test.mgf', '2', '344.72076', '2'), 'KKGM+15.995GK': ('hw2_test.mgf', '64', '333.1904', '2'), 'QPC+57.021VQSPR': ('hw2_test.mgf', '141', '485.73834', '2'), '+42.011SGSTPFQMR': ('hw2_test.mgf', '162', '526.75146', '2'), 'LC+57.021MQEHM+15.995TR': ('hw2_test.mgf', '246', '612.26086', '2'), 'MIQMYSNGSSKDR': ('hw2_test.mgf', '287', '506.90698', '3'), 'HTGGC+57.021HC+57.021GAVR': ('hw2_test.mgf', '305', '404.5097', '3'), 'LASEKSEM+15.995QR': ('hw2_test.mgf', '443', '399.53128', '3'), 'ETAKLIKEGFMR': ('hw2_test.mgf', '522', '356.19543', '4'), 'KFGSENVKM+15.995IQDSGK': ('hw2_test.mgf', '1170', '421.95804', '4'), 'LYKC+57.021M+15.995EC+57.021GKAYSYR': ('hw2_test.mgf', '1509', '461.7155', '4'), 'LEVALYM+15.995FLWNPDTEAVLVAM+15.995SC+57.021FR': ('hw2_test.mgf', '32527', '602.484', '5'), 'GRPAPGFHHGDGPGNAVQEIMIPASK': ('hw2_test.mgf', '14871', '528.8663', '5'), 'IEGLDIHFIHVKPPQLPAGHTPK': ('hw2_test.mgf', '25711', '424.90677', '6')}\n",
      "{'Peptide': ('SpecFile', 'ScanNum', 'PrecursorMZ', 'Charge'), 'KQLATK': ('hw2_test.mgf', '2', '344.72076', '2'), 'KKGM+15.995GK': ('hw2_test.mgf', '64', '333.1904', '2'), 'QPC+57.021VQSPR': ('hw2_test.mgf', '141', '485.73834', '2'), '+42.011SGSTPFQMR': ('hw2_test.mgf', '162', '526.75146', '2'), 'LC+57.021MQEHM+15.995TR': ('hw2_test.mgf', '246', '612.26086', '2'), 'MIQMYSNGSSKDR': ('hw2_test.mgf', '287', '506.90698', '3'), 'HTGGC+57.021HC+57.021GAVR': ('hw2_test.mgf', '305', '404.5097', '3'), 'LASEKSEM+15.995QR': ('hw2_test.mgf', '443', '399.53128', '3'), 'ETAKLIKEGFMR': ('hw2_test.mgf', '522', '356.19543', '4'), 'KFGSENVKM+15.995IQDSGK': ('hw2_test.mgf', '1170', '421.95804', '4'), 'LYKC+57.021M+15.995EC+57.021GKAYSYR': ('hw2_test.mgf', '1509', '461.7155', '4'), 'LEVALYM+15.995FLWNPDTEAVLVAM+15.995SC+57.021FR': ('hw2_test.mgf', '32527', '602.484', '5'), 'GRPAPGFHHGDGPGNAVQEIMIPASK': ('hw2_test.mgf', '14871', '528.8663', '5'), 'IEGLDIHFIHVKPPQLPAGHTPK': ('hw2_test.mgf', '25711', '424.90677', '6')}\n",
      "{'Peptide': ('SpecFile', 'ScanNum', 'PrecursorMZ', 'Charge'), 'KQLATK': ('hw2_test.mgf', '2', '344.72076', '2'), 'KKGM+15.995GK': ('hw2_test.mgf', '64', '333.1904', '2'), 'QPC+57.021VQSPR': ('hw2_test.mgf', '141', '485.73834', '2'), '+42.011SGSTPFQMR': ('hw2_test.mgf', '162', '526.75146', '2'), 'LC+57.021MQEHM+15.995TR': ('hw2_test.mgf', '246', '612.26086', '2'), 'MIQMYSNGSSKDR': ('hw2_test.mgf', '287', '506.90698', '3'), 'HTGGC+57.021HC+57.021GAVR': ('hw2_test.mgf', '305', '404.5097', '3'), 'LASEKSEM+15.995QR': ('hw2_test.mgf', '443', '399.53128', '3'), 'ETAKLIKEGFMR': ('hw2_test.mgf', '522', '356.19543', '4'), 'KFGSENVKM+15.995IQDSGK': ('hw2_test.mgf', '1170', '421.95804', '4'), 'LYKC+57.021M+15.995EC+57.021GKAYSYR': ('hw2_test.mgf', '1509', '461.7155', '4'), 'LEVALYM+15.995FLWNPDTEAVLVAM+15.995SC+57.021FR': ('hw2_test.mgf', '32527', '602.484', '5'), 'GRPAPGFHHGDGPGNAVQEIMIPASK': ('hw2_test.mgf', '14871', '528.8663', '5'), 'IEGLDIHFIHVKPPQLPAGHTPK': ('hw2_test.mgf', '25711', '424.90677', '6')}\n",
      "{'Peptide': ('SpecFile', 'ScanNum', 'PrecursorMZ', 'Charge'), 'KQLATK': ('hw2_test.mgf', '2', '344.72076', '2'), 'KKGM+15.995GK': ('hw2_test.mgf', '64', '333.1904', '2'), 'QPC+57.021VQSPR': ('hw2_test.mgf', '141', '485.73834', '2'), '+42.011SGSTPFQMR': ('hw2_test.mgf', '162', '526.75146', '2'), 'LC+57.021MQEHM+15.995TR': ('hw2_test.mgf', '246', '612.26086', '2'), 'MIQMYSNGSSKDR': ('hw2_test.mgf', '287', '506.90698', '3'), 'HTGGC+57.021HC+57.021GAVR': ('hw2_test.mgf', '305', '404.5097', '3'), 'LASEKSEM+15.995QR': ('hw2_test.mgf', '443', '399.53128', '3'), 'ETAKLIKEGFMR': ('hw2_test.mgf', '522', '356.19543', '4'), 'KFGSENVKM+15.995IQDSGK': ('hw2_test.mgf', '1170', '421.95804', '4'), 'LYKC+57.021M+15.995EC+57.021GKAYSYR': ('hw2_test.mgf', '1509', '461.7155', '4'), 'LEVALYM+15.995FLWNPDTEAVLVAM+15.995SC+57.021FR': ('hw2_test.mgf', '32527', '602.484', '5'), 'GRPAPGFHHGDGPGNAVQEIMIPASK': ('hw2_test.mgf', '14871', '528.8663', '5'), 'IEGLDIHFIHVKPPQLPAGHTPK': ('hw2_test.mgf', '25711', '424.90677', '6')}\n",
      "{'Peptide': ('SpecFile', 'ScanNum', 'PrecursorMZ', 'Charge'), 'KQLATK': ('hw2_test.mgf', '2', '344.72076', '2'), 'KKGM+15.995GK': ('hw2_test.mgf', '64', '333.1904', '2'), 'QPC+57.021VQSPR': ('hw2_test.mgf', '141', '485.73834', '2'), '+42.011SGSTPFQMR': ('hw2_test.mgf', '162', '526.75146', '2'), 'LC+57.021MQEHM+15.995TR': ('hw2_test.mgf', '246', '612.26086', '2'), 'MIQMYSNGSSKDR': ('hw2_test.mgf', '287', '506.90698', '3'), 'HTGGC+57.021HC+57.021GAVR': ('hw2_test.mgf', '305', '404.5097', '3'), 'LASEKSEM+15.995QR': ('hw2_test.mgf', '443', '399.53128', '3'), 'ETAKLIKEGFMR': ('hw2_test.mgf', '522', '356.19543', '4'), 'KFGSENVKM+15.995IQDSGK': ('hw2_test.mgf', '1170', '421.95804', '4'), 'LYKC+57.021M+15.995EC+57.021GKAYSYR': ('hw2_test.mgf', '1509', '461.7155', '4'), 'LEVALYM+15.995FLWNPDTEAVLVAM+15.995SC+57.021FR': ('hw2_test.mgf', '32527', '602.484', '5'), 'GRPAPGFHHGDGPGNAVQEIMIPASK': ('hw2_test.mgf', '14871', '528.8663', '5'), 'IEGLDIHFIHVKPPQLPAGHTPK': ('hw2_test.mgf', '25711', '424.90677', '6')}\n",
      "{'Peptide': ('SpecFile', 'ScanNum', 'PrecursorMZ', 'Charge'), 'KQLATK': ('hw2_test.mgf', '2', '344.72076', '2'), 'KKGM+15.995GK': ('hw2_test.mgf', '64', '333.1904', '2'), 'QPC+57.021VQSPR': ('hw2_test.mgf', '141', '485.73834', '2'), '+42.011SGSTPFQMR': ('hw2_test.mgf', '162', '526.75146', '2'), 'LC+57.021MQEHM+15.995TR': ('hw2_test.mgf', '246', '612.26086', '2'), 'MIQMYSNGSSKDR': ('hw2_test.mgf', '287', '506.90698', '3'), 'HTGGC+57.021HC+57.021GAVR': ('hw2_test.mgf', '305', '404.5097', '3'), 'LASEKSEM+15.995QR': ('hw2_test.mgf', '443', '399.53128', '3'), 'ETAKLIKEGFMR': ('hw2_test.mgf', '522', '356.19543', '4'), 'KFGSENVKM+15.995IQDSGK': ('hw2_test.mgf', '1170', '421.95804', '4'), 'LYKC+57.021M+15.995EC+57.021GKAYSYR': ('hw2_test.mgf', '1509', '461.7155', '4'), 'LEVALYM+15.995FLWNPDTEAVLVAM+15.995SC+57.021FR': ('hw2_test.mgf', '32527', '602.484', '5'), 'GRPAPGFHHGDGPGNAVQEIMIPASK': ('hw2_test.mgf', '14871', '528.8663', '5'), 'IEGLDIHFIHVKPPQLPAGHTPK': ('hw2_test.mgf', '25711', '424.90677', '6')}\n",
      "{'Peptide': ('SpecFile', 'ScanNum', 'PrecursorMZ', 'Charge'), 'KQLATK': ('hw2_test.mgf', '2', '344.72076', '2'), 'KKGM+15.995GK': ('hw2_test.mgf', '64', '333.1904', '2'), 'QPC+57.021VQSPR': ('hw2_test.mgf', '141', '485.73834', '2'), '+42.011SGSTPFQMR': ('hw2_test.mgf', '162', '526.75146', '2'), 'LC+57.021MQEHM+15.995TR': ('hw2_test.mgf', '246', '612.26086', '2'), 'MIQMYSNGSSKDR': ('hw2_test.mgf', '287', '506.90698', '3'), 'HTGGC+57.021HC+57.021GAVR': ('hw2_test.mgf', '305', '404.5097', '3'), 'LASEKSEM+15.995QR': ('hw2_test.mgf', '443', '399.53128', '3'), 'ETAKLIKEGFMR': ('hw2_test.mgf', '522', '356.19543', '4'), 'KFGSENVKM+15.995IQDSGK': ('hw2_test.mgf', '1170', '421.95804', '4'), 'LYKC+57.021M+15.995EC+57.021GKAYSYR': ('hw2_test.mgf', '1509', '461.7155', '4'), 'LEVALYM+15.995FLWNPDTEAVLVAM+15.995SC+57.021FR': ('hw2_test.mgf', '32527', '602.484', '5'), 'GRPAPGFHHGDGPGNAVQEIMIPASK': ('hw2_test.mgf', '14871', '528.8663', '5'), 'IEGLDIHFIHVKPPQLPAGHTPK': ('hw2_test.mgf', '25711', '424.90677', '6')}\n"
     ]
    }
   ],
   "source": [
    "with open(peptide_file,'r') as f:\n",
    "    next(f) # skip header row\n",
    "    for line in f:\n",
    "        line = line.strip()\n",
    "        if not line:\n",
    "            continue\n",
    "        # split tab-separated line into columns\n",
    "        SpecFile, ScanNum, PrecursorMZ, Charge, Peptide=line.split('\\t')\n",
    "        peptide_dict[Peptide] = (SpecFile, ScanNum, PrecursorMZ, Charge)\n",
    "        print(peptide_dict)"
   ]
  },
  {
   "cell_type": "code",
   "execution_count": 34,
   "metadata": {},
   "outputs": [
    {
     "name": "stdout",
     "output_type": "stream",
     "text": [
      "Processing Peptide: Peptide, SpecFile: SpecFile, ScanNum: ScanNum\n",
      "Processing Peptide: KQLATK, SpecFile: hw2_test.mgf, ScanNum: 2\n",
      "Processing Peptide: KKGM+15.995GK, SpecFile: hw2_test.mgf, ScanNum: 64\n",
      "Processing Peptide: QPC+57.021VQSPR, SpecFile: hw2_test.mgf, ScanNum: 141\n",
      "Processing Peptide: +42.011SGSTPFQMR, SpecFile: hw2_test.mgf, ScanNum: 162\n",
      "Processing Peptide: LC+57.021MQEHM+15.995TR, SpecFile: hw2_test.mgf, ScanNum: 246\n",
      "Processing Peptide: MIQMYSNGSSKDR, SpecFile: hw2_test.mgf, ScanNum: 287\n",
      "Processing Peptide: HTGGC+57.021HC+57.021GAVR, SpecFile: hw2_test.mgf, ScanNum: 305\n",
      "Processing Peptide: LASEKSEM+15.995QR, SpecFile: hw2_test.mgf, ScanNum: 443\n",
      "Processing Peptide: ETAKLIKEGFMR, SpecFile: hw2_test.mgf, ScanNum: 522\n",
      "Processing Peptide: KFGSENVKM+15.995IQDSGK, SpecFile: hw2_test.mgf, ScanNum: 1170\n",
      "Processing Peptide: LYKC+57.021M+15.995EC+57.021GKAYSYR, SpecFile: hw2_test.mgf, ScanNum: 1509\n",
      "Processing Peptide: LEVALYM+15.995FLWNPDTEAVLVAM+15.995SC+57.021FR, SpecFile: hw2_test.mgf, ScanNum: 32527\n",
      "Processing Peptide: GRPAPGFHHGDGPGNAVQEIMIPASK, SpecFile: hw2_test.mgf, ScanNum: 14871\n",
      "Processing Peptide: IEGLDIHFIHVKPPQLPAGHTPK, SpecFile: hw2_test.mgf, ScanNum: 25711\n"
     ]
    }
   ],
   "source": [
    "for Peptide, (SpecFile, ScanNum, PrecursorMZ, Charge) in peptide_dict.items():\n",
    "   # Print some information about the current Peptide\n",
    "    print(f\"Processing Peptide: {Peptide}, SpecFile: {SpecFile}, ScanNum: {ScanNum}\")"
   ]
  },
  {
   "cell_type": "code",
   "execution_count": 40,
   "metadata": {},
   "outputs": [
    {
     "ename": "AttributeError",
     "evalue": "module 'pyteomics.mass' has no attribute 'std_terminus_mass'",
     "output_type": "error",
     "traceback": [
      "\u001b[1;31m---------------------------------------------------------------------------\u001b[0m",
      "\u001b[1;31mAttributeError\u001b[0m                            Traceback (most recent call last)",
      "Cell \u001b[1;32mIn[40], line 12\u001b[0m\n\u001b[0;32m      4\u001b[0m \u001b[39mfor\u001b[39;00m c \u001b[39min\u001b[39;00m charge_states:\n\u001b[0;32m      5\u001b[0m     ion_series \u001b[39m=\u001b[39m ion_type \u001b[39m+\u001b[39m \u001b[39mstr\u001b[39m(c) \u001b[39m+\u001b[39m \u001b[39m'\u001b[39m\u001b[39m+\u001b[39m\u001b[39m'\u001b[39m\n\u001b[0;32m      6\u001b[0m     ion_masses \u001b[39m=\u001b[39m mass\u001b[39m.\u001b[39mfast_mass(\n\u001b[0;32m      7\u001b[0m         ion_series,\n\u001b[0;32m      8\u001b[0m         seq\u001b[39m=\u001b[39mPeptide,\n\u001b[0;32m      9\u001b[0m         ion_type\u001b[39m=\u001b[39mion_type,\n\u001b[0;32m     10\u001b[0m         Charge\u001b[39m=\u001b[39mc,\n\u001b[0;32m     11\u001b[0m         aa_mass\u001b[39m=\u001b[39mmass\u001b[39m.\u001b[39mstd_aa_mass,\n\u001b[1;32m---> 12\u001b[0m         terminus_mass\u001b[39m=\u001b[39mmass\u001b[39m.\u001b[39;49mstd_terminus_mass,\n\u001b[0;32m     13\u001b[0m         ion_masses\u001b[39m=\u001b[39m{\u001b[39m'\u001b[39m\u001b[39my\u001b[39m\u001b[39m'\u001b[39m: mass\u001b[39m.\u001b[39mfast_mass(\u001b[39m'\u001b[39m\u001b[39my\u001b[39m\u001b[39m'\u001b[39m, seq\u001b[39m=\u001b[39mPeptide, ion_type\u001b[39m=\u001b[39m\u001b[39m'\u001b[39m\u001b[39my\u001b[39m\u001b[39m'\u001b[39m, Charge\u001b[39m=\u001b[39mc, aa_mass\u001b[39m=\u001b[39mmass\u001b[39m.\u001b[39mstd_aa_mass, terminus_mass\u001b[39m=\u001b[39mmass\u001b[39m.\u001b[39mstd_terminus_mass)}\n\u001b[0;32m     14\u001b[0m     )\n\u001b[0;32m     16\u001b[0m     \u001b[39m# Filter theoretical peaks based on fragment mass tolerance\u001b[39;00m\n\u001b[0;32m     17\u001b[0m     \u001b[39mfor\u001b[39;00m i, ion_mass \u001b[39min\u001b[39;00m \u001b[39menumerate\u001b[39m(ion_masses):\n",
      "\u001b[1;31mAttributeError\u001b[0m: module 'pyteomics.mass' has no attribute 'std_terminus_mass'"
     ]
    }
   ],
   "source": [
    "from pyteomics import mass\n",
    "# Generate theoretical peak list for each ion type and charge state\n",
    "for ion_type in ion_types:\n",
    "    for c in charge_states:\n",
    "        ion_series = ion_type + str(c) + '+'\n",
    "        ion_masses = mass.fast_mass(\n",
    "            ion_series,\n",
    "            seq=Peptide,\n",
    "            ion_type=ion_type,\n",
    "            Charge=c,\n",
    "            aa_mass=mass.std_aa_mass,\n",
    "            terminus_mass=mass.std_terminus_mass,\n",
    "            ion_masses={'y': mass.fast_mass('y', seq=Peptide, ion_type='y', Charge=c, aa_mass=mass.std_aa_mass, terminus_mass=mass.std_terminus_mass)}\n",
    "        )\n",
    "\n",
    "        # Filter theoretical peaks based on fragment mass tolerance\n",
    "        for i, ion_mass in enumerate(ion_masses):\n",
    "            for neutral_loss in [0.0, mass.water, mass.ammonia]:\n",
    "                ion_mass_nl = ion_mass - neutral_loss\n",
    "                if abs(ion_mass_nl - PrecursorMZ) <= fragment_tol:\n",
    "                    # Output annotated peak for current ion type, charge state, and neutral loss\n",
    "                    print(f\"{ion_series}\\t{ion_mass_nl:.4f}\\t{ion_mass_nl - PrecursorMZ:.4f}\")"
   ]
  },
  {
   "attachments": {},
   "cell_type": "markdown",
   "metadata": {},
   "source": [
    "### Generate the theoretical peak list for each peptide:"
   ]
  },
  {
   "cell_type": "code",
   "execution_count": 39,
   "metadata": {},
   "outputs": [
    {
     "ename": "TypeError",
     "evalue": "string indices must be integers",
     "output_type": "error",
     "traceback": [
      "\u001b[1;31m---------------------------------------------------------------------------\u001b[0m",
      "\u001b[1;31mTypeError\u001b[0m                                 Traceback (most recent call last)",
      "Cell \u001b[1;32mIn[39], line 35\u001b[0m\n\u001b[0;32m     33\u001b[0m theoretical_peak_lists \u001b[39m=\u001b[39m []\n\u001b[0;32m     34\u001b[0m \u001b[39mfor\u001b[39;00m Peptide \u001b[39min\u001b[39;00m Peptide:\n\u001b[1;32m---> 35\u001b[0m     peak_list \u001b[39m=\u001b[39m get_peak_list(Peptide[\u001b[39m'\u001b[39;49m\u001b[39mPeptide_seq\u001b[39;49m\u001b[39m'\u001b[39;49m], ion_type, fragment_tol)\n\u001b[0;32m     36\u001b[0m     theoretical_peak_lists\u001b[39m.\u001b[39mappend({\u001b[39m'\u001b[39m\u001b[39mscan_num\u001b[39m\u001b[39m'\u001b[39m: Peptide[\u001b[39m'\u001b[39m\u001b[39mscan_num\u001b[39m\u001b[39m'\u001b[39m], \u001b[39m'\u001b[39m\u001b[39mpeak_list\u001b[39m\u001b[39m'\u001b[39m: peak_list})\n",
      "\u001b[1;31mTypeError\u001b[0m: string indices must be integers"
     ]
    }
   ],
   "source": [
    "def get_fragment_masses(Peptide, ion_type):\n",
    "    \"\"\"\n",
    "    Calculate the expected masses of fragment ions for a given Peptide sequence and ion type\n",
    "    \"\"\"\n",
    "    prot_param = ProtParam.ProteinAnalysis(str(Peptide))\n",
    "    aa_masses = prot_param.monoisotopic_counts\n",
    "\n",
    "    if ion_type == 'y':\n",
    "        ion_masses = [sum(aa_masses[i:]) + 19.0178 for i in range(len(aa_masses))]  # add mass of H2O\n",
    "    elif ion_type == 'b':\n",
    "        ion_masses = [sum(aa_masses[:i]) + 1.0078 for i in range(len(aa_masses))]  # add mass of H\n",
    "\n",
    "    return ion_masses\n",
    "\n",
    "\n",
    "def get_peak_list(Peptide, ion_type, fragment_tol):\n",
    "    \"\"\"\n",
    "    Generate a theoretical peak list for a given Peptide sequence, ion type, and fragment mass tolerance\n",
    "    \"\"\"\n",
    "    fragment_masses = get_fragment_masses(Peptide, ion_type)\n",
    "    peak_list = []\n",
    "\n",
    "    for i, ion_mass in enumerate(fragment_masses):\n",
    "        if i == 0:\n",
    "            continue\n",
    "        diff = ion_mass - fragment_masses[i-1]\n",
    "        if abs(diff - 1.0078) <= fragment_tol:\n",
    "            peak_list.append({'ion_type': ion_type, 'ion_num': i, 'mass': ion_mass, 'intensity': 1.0})\n",
    "\n",
    "    return peak_list\n",
    "\n",
    "\n",
    "theoretical_peak_lists = []\n",
    "for Peptide in Peptide:\n",
    "    peak_list = get_peak_list(Peptide['Peptide_seq'], ion_type, fragment_tol)\n",
    "    theoretical_peak_lists.append({'scan_num': Peptide['scan_num'], 'peak_list': peak_list})\n"
   ]
  },
  {
   "attachments": {},
   "cell_type": "markdown",
   "metadata": {},
   "source": [
    "### Annotate the peaks in the spectral file:"
   ]
  },
  {
   "cell_type": "code",
   "execution_count": null,
   "metadata": {},
   "outputs": [],
   "source": [
    "from pyteomics import mass\n",
    "\n",
    "# Iterate over each peptide in the peptide_dict\n",
    "for peptide, (spec_file, scan_num, precursor_mz, precursor_charge) in peptide_dict.items():\n",
    "\n",
    "    # Convert precursor_mz and precursor_charge to floats\n",
    "    precursor_mz = float(precursor_mz)\n",
    "    precursor_charge = int(precursor_charge)\n",
    "\n",
    "    # Calculate the precursor mass from m/z and Charge\n",
    "    precursor_mass = precursor_mz * precursor_charge - precursor_charge * mass.proton\n",
    "\n",
    "    # Iterate over each ion type in ion_types\n",
    "    for ion_type in ion_types:\n",
    "\n",
    "        # Iterate over each charge state in charge_states\n",
    "        for c in charge_states:\n",
    "\n",
    "            # Generate ion series and masses\n",
    "            ion_series = ion_type + str(c) + '+'\n",
    "            ion_masses = mass.fast_mass(\n",
    "                ion_series,\n",
    "                seq=peptide,\n",
    "                ion_type=ion_type,\n",
    "                Charge=c,\n",
    "                aa_mass=mass.std_aa_mass,\n",
    "                terminus_mass=mass.std_terminus_mass,\n",
    "                ion_masses={'y': mass.fast_mass('y', seq=peptide, ion_type='y', Charge=c, aa_mass=mass.std_aa_mass, terminus_mass=mass.std_terminus_mass)}\n",
    "            )\n",
    "\n",
    "            # Iterate over each ion mass and calculate neutral loss masses\n",
    "            for ion_mass in ion_masses:\n",
    "                for neutral_loss in [0.0, mass.water, mass.ammonia]:\n",
    "                    ion_mass_nl = ion_mass - neutral_loss\n",
    "\n",
    "                    # Filter theoretical peaks based on fragment mass tolerance\n",
    "                    if abs(ion_mass_nl - precursor_mass) <= fragment_tol:\n",
    "                        # Output annotated peak\n",
    "                        print(f\"{ion_series}\\t{ion_mass_nl:.4f}\\t{ion_mass_nl - precursor_mass:.4f}\")\n"
   ]
  }
 ],
 "metadata": {
  "kernelspec": {
   "display_name": "bioinformatics",
   "language": "python",
   "name": "python3"
  },
  "language_info": {
   "codemirror_mode": {
    "name": "ipython",
    "version": 3
   },
   "file_extension": ".py",
   "mimetype": "text/x-python",
   "name": "python",
   "nbconvert_exporter": "python",
   "pygments_lexer": "ipython3",
   "version": "3.8.16"
  },
  "orig_nbformat": 4
 },
 "nbformat": 4,
 "nbformat_minor": 2
}
