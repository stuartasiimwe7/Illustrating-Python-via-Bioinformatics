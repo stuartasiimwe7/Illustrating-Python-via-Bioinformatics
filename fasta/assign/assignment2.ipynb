{
 "cells": [
  {
   "attachments": {},
   "cell_type": "markdown",
   "metadata": {},
   "source": [
    "### Importing the necessary libraries:"
   ]
  },
  {
   "cell_type": "code",
   "execution_count": 3,
   "metadata": {},
   "outputs": [],
   "source": [
    "from pyteomics import mgf, parser\n",
    "from Bio.SeqUtils import ProtParam"
   ]
  },
  {
   "attachments": {},
   "cell_type": "markdown",
   "metadata": {},
   "source": [
    "###  Read in the peptide sequence file \n",
    "##### Then extract the peptide sequence, scan number, and precursor mass over charge value for each peptide:"
   ]
  },
  {
   "cell_type": "code",
   "execution_count": 5,
   "metadata": {},
   "outputs": [
    {
     "ename": "ValueError",
     "evalue": "too many values to unpack (expected 4)",
     "output_type": "error",
     "traceback": [
      "\u001b[1;31m---------------------------------------------------------------------------\u001b[0m",
      "\u001b[1;31mValueError\u001b[0m                                Traceback (most recent call last)",
      "Cell \u001b[1;32mIn[5], line 8\u001b[0m\n\u001b[0;32m      6\u001b[0m \u001b[39mwith\u001b[39;00m \u001b[39mopen\u001b[39m(peptide_file, \u001b[39m'\u001b[39m\u001b[39mr\u001b[39m\u001b[39m'\u001b[39m) \u001b[39mas\u001b[39;00m f:\n\u001b[0;32m      7\u001b[0m     \u001b[39mfor\u001b[39;00m line \u001b[39min\u001b[39;00m f:\n\u001b[1;32m----> 8\u001b[0m         ScanNum, PrecursorMZ, Charge, Peptide \u001b[39m=\u001b[39m line\u001b[39m.\u001b[39mstrip()\u001b[39m.\u001b[39msplit(\u001b[39m'\u001b[39m\u001b[39m\\t\u001b[39;00m\u001b[39m'\u001b[39m)\n\u001b[0;32m      9\u001b[0m         Peptide \u001b[39m=\u001b[39m parser\u001b[39m.\u001b[39mparse(Peptide)\u001b[39m.\u001b[39msequence\n\u001b[0;32m     10\u001b[0m         peptides\u001b[39m.\u001b[39mappend({\u001b[39m'\u001b[39m\u001b[39mScanNum\u001b[39m\u001b[39m'\u001b[39m: ScanNum, \u001b[39m'\u001b[39m\u001b[39mPeptide\u001b[39m\u001b[39m'\u001b[39m: Peptide, \u001b[39m'\u001b[39m\u001b[39mPrecursorMZ\u001b[39m\u001b[39m'\u001b[39m: \u001b[39mfloat\u001b[39m(PrecursorMZ)})\n",
      "\u001b[1;31mValueError\u001b[0m: too many values to unpack (expected 4)"
     ]
    }
   ],
   "source": [
    "peptide_file = \"data/psmlist.txt\"\n",
    "ion_type = \"y\"\n",
    "fragment_tol = 0.5\n",
    "\n",
    "peptides = []\n",
    "with open(peptide_file, 'r') as f:\n",
    "    for line in f:\n",
    "        ScanNum, PrecursorMZ, Charge, Peptide = line.strip().split('\\t')\n",
    "        Peptide = parser.parse(Peptide).sequence\n",
    "        peptides.append({'ScanNum': ScanNum, 'Peptide': Peptide, 'PrecursorMZ': float(PrecursorMZ)})\n"
   ]
  },
  {
   "attachments": {},
   "cell_type": "markdown",
   "metadata": {},
   "source": [
    "### Generate the theoretical peak list for each peptide:"
   ]
  },
  {
   "cell_type": "code",
   "execution_count": 3,
   "metadata": {},
   "outputs": [],
   "source": [
    "def get_fragment_masses(peptide, ion_type):\n",
    "    \"\"\"\n",
    "    Calculate the expected masses of fragment ions for a given peptide sequence and ion type\n",
    "    \"\"\"\n",
    "    prot_param = ProtParam.ProteinAnalysis(str(peptide))\n",
    "    aa_masses = prot_param.monoisotopic_counts\n",
    "\n",
    "    if ion_type == 'y':\n",
    "        ion_masses = [sum(aa_masses[i:]) + 19.0178 for i in range(len(aa_masses))]  # add mass of H2O\n",
    "    elif ion_type == 'b':\n",
    "        ion_masses = [sum(aa_masses[:i]) + 1.0078 for i in range(len(aa_masses))]  # add mass of H\n",
    "\n",
    "    return ion_masses\n",
    "\n",
    "\n",
    "def get_peak_list(peptide, ion_type, fragment_tol):\n",
    "    \"\"\"\n",
    "    Generate a theoretical peak list for a given peptide sequence, ion type, and fragment mass tolerance\n",
    "    \"\"\"\n",
    "    fragment_masses = get_fragment_masses(peptide, ion_type)\n",
    "    peak_list = []\n",
    "\n",
    "    for i, ion_mass in enumerate(fragment_masses):\n",
    "        if i == 0:\n",
    "            continue\n",
    "        diff = ion_mass - fragment_masses[i-1]\n",
    "        if abs(diff - 1.0078) <= fragment_tol:\n",
    "            peak_list.append({'ion_type': ion_type, 'ion_num': i, 'mass': ion_mass, 'intensity': 1.0})\n",
    "\n",
    "    return peak_list\n",
    "\n",
    "\n",
    "theoretical_peak_lists = []\n",
    "for peptide in peptides:\n",
    "    peak_list = get_peak_list(peptide['peptide_seq'], ion_type, fragment_tol)\n",
    "    theoretical_peak_lists.append({'scan_num': peptide['scan_num'], 'peak_list': peak_list})\n"
   ]
  },
  {
   "attachments": {},
   "cell_type": "markdown",
   "metadata": {},
   "source": [
    "### Annotate the peaks in the spectral file:"
   ]
  },
  {
   "cell_type": "code",
   "execution_count": 4,
   "metadata": {},
   "outputs": [
    {
     "ename": "SyntaxError",
     "evalue": "unexpected EOF while parsing (948253125.py, line 8)",
     "output_type": "error",
     "traceback": [
      "\u001b[1;36m  Cell \u001b[1;32mIn[4], line 8\u001b[1;36m\u001b[0m\n\u001b[1;33m    mod_masses = {'O': 15.994915, 'P':\u001b[0m\n\u001b[1;37m                                      ^\u001b[0m\n\u001b[1;31mSyntaxError\u001b[0m\u001b[1;31m:\u001b[0m unexpected EOF while parsing\n"
     ]
    }
   ],
   "source": [
    "def annotate_peak_list(peak_list, theoretical_peak_list, fragment_tol):\n",
    "    \"\"\"\n",
    "    Annotate a peak list with the expected ions from the theoretical peak list\n",
    "    \"\"\"\n",
    "    annotated_peak_list = []\n",
    "\n",
    "    for peak in peak_list:\n",
    "        for ion_type in ['y', 'b']:\n",
    "            for theoretical_peak in theoretical_peak_list:\n",
    "                if peak['mz'] > theoretical_peak['mass'] and peak['mz'] - theoretical_peak['mass'] <= fragment_tol:\n",
    "                    annotated_peak_list.append({'ion_type': ion_type, 'ion_num': theoretical_peak['ion_num'], 'mass': theoretical_peak['mass'], 'intensity': peak['intensity']})\n",
    "\n",
    "    return annotated_peak_list\n",
    "\n",
    "\n",
    "spectral_file = \"spectral_data.mgf\"\n",
    "annotated\n"
   ]
  }
 ],
 "metadata": {
  "kernelspec": {
   "display_name": "bioinformatics",
   "language": "python",
   "name": "python3"
  },
  "language_info": {
   "codemirror_mode": {
    "name": "ipython",
    "version": 3
   },
   "file_extension": ".py",
   "mimetype": "text/x-python",
   "name": "python",
   "nbconvert_exporter": "python",
   "pygments_lexer": "ipython3",
   "version": "3.8.16"
  },
  "orig_nbformat": 4
 },
 "nbformat": 4,
 "nbformat_minor": 2
}
