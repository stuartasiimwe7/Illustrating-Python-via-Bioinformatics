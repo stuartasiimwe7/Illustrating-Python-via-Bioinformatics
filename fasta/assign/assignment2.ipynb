{
 "cells": [
  {
   "cell_type": "code",
   "execution_count": 1,
   "metadata": {},
   "outputs": [],
   "source": [
    "import numpy as np\n",
    "import re"
   ]
  },
  {
   "cell_type": "code",
   "execution_count": 9,
   "metadata": {},
   "outputs": [
    {
     "ename": "FileNotFoundError",
     "evalue": "[Errno 2] No such file or directory: 'files/data/spectral_file.mgf'",
     "output_type": "error",
     "traceback": [
      "\u001b[1;31m---------------------------------------------------------------------------\u001b[0m",
      "\u001b[1;31mFileNotFoundError\u001b[0m                         Traceback (most recent call last)",
      "Cell \u001b[1;32mIn[9], line 3\u001b[0m\n\u001b[0;32m      1\u001b[0m \u001b[39m# Parse spectral file\u001b[39;00m\n\u001b[0;32m      2\u001b[0m spectra \u001b[39m=\u001b[39m {}\n\u001b[1;32m----> 3\u001b[0m \u001b[39mwith\u001b[39;00m \u001b[39mopen\u001b[39;49m(\u001b[39m'\u001b[39;49m\u001b[39mfiles/data/spectral_file.mgf\u001b[39;49m\u001b[39m'\u001b[39;49m, \u001b[39m'\u001b[39;49m\u001b[39mr\u001b[39;49m\u001b[39m'\u001b[39;49m) \u001b[39mas\u001b[39;00m f:\n\u001b[0;32m      4\u001b[0m     \u001b[39mfor\u001b[39;00m line \u001b[39min\u001b[39;00m f:\n\u001b[0;32m      5\u001b[0m         \u001b[39mif\u001b[39;00m line\u001b[39m.\u001b[39mstartswith(\u001b[39m'\u001b[39m\u001b[39mBEGIN IONS\u001b[39m\u001b[39m'\u001b[39m):\n",
      "File \u001b[1;32mc:\\Users\\Asiimwe\\anaconda3\\envs\\bioinformatics\\lib\\site-packages\\IPython\\core\\interactiveshell.py:282\u001b[0m, in \u001b[0;36m_modified_open\u001b[1;34m(file, *args, **kwargs)\u001b[0m\n\u001b[0;32m    275\u001b[0m \u001b[39mif\u001b[39;00m file \u001b[39min\u001b[39;00m {\u001b[39m0\u001b[39m, \u001b[39m1\u001b[39m, \u001b[39m2\u001b[39m}:\n\u001b[0;32m    276\u001b[0m     \u001b[39mraise\u001b[39;00m \u001b[39mValueError\u001b[39;00m(\n\u001b[0;32m    277\u001b[0m         \u001b[39mf\u001b[39m\u001b[39m\"\u001b[39m\u001b[39mIPython won\u001b[39m\u001b[39m'\u001b[39m\u001b[39mt let you open fd=\u001b[39m\u001b[39m{\u001b[39;00mfile\u001b[39m}\u001b[39;00m\u001b[39m by default \u001b[39m\u001b[39m\"\u001b[39m\n\u001b[0;32m    278\u001b[0m         \u001b[39m\"\u001b[39m\u001b[39mas it is likely to crash IPython. If you know what you are doing, \u001b[39m\u001b[39m\"\u001b[39m\n\u001b[0;32m    279\u001b[0m         \u001b[39m\"\u001b[39m\u001b[39myou can use builtins\u001b[39m\u001b[39m'\u001b[39m\u001b[39m open.\u001b[39m\u001b[39m\"\u001b[39m\n\u001b[0;32m    280\u001b[0m     )\n\u001b[1;32m--> 282\u001b[0m \u001b[39mreturn\u001b[39;00m io_open(file, \u001b[39m*\u001b[39;49margs, \u001b[39m*\u001b[39;49m\u001b[39m*\u001b[39;49mkwargs)\n",
      "\u001b[1;31mFileNotFoundError\u001b[0m: [Errno 2] No such file or directory: 'files/data/spectral_file.mgf'"
     ]
    }
   ],
   "source": [
    "# Parse spectral file\n",
    "spectra = {}\n",
    "with open('files/data/spectral_file.mgf', 'r') as f:\n",
    "    for line in f:\n",
    "        if line.startswith('BEGIN IONS'):\n",
    "            title = next(f).strip().split('=')[1]\n",
    "            scan_num = int(title.split()[1])\n",
    "            precursor_mz = float(next(f).strip().split('=')[1])\n",
    "            charge = int(next(f).strip().split('=')[1])\n",
    "            peaks = []\n",
    "            for peak in f:\n",
    "                if peak.strip() == 'END IONS':\n",
    "                    break\n",
    "                m_z, intensity = map(float, peak.strip().split())\n",
    "                peaks.append((m_z, intensity))\n",
    "            spectra[scan_num] = {'title': title, 'precursor_mz': precursor_mz, 'charge': charge, 'peaks': peaks}"
   ]
  },
  {
   "cell_type": "code",
   "execution_count": 3,
   "metadata": {},
   "outputs": [],
   "source": [
    "def parse_peptides(file):\n",
    "    \"\"\"Parse the peptide file in *.txt format and store it in memory.\"\"\"\n",
    "    peptides = []\n",
    "    with open(file) as f:\n",
    "        for line in f:\n",
    "            if line.strip():\n",
    "                specfile, scan, m_z, charge, peptide = line.strip().split()\n",
    "                peptides.append({\"specfile\": specfile, \"scan\": scan, \"m_z\": float(m_z), \"charge\": int(charge), \"peptide\": peptide})\n",
    "    return peptides"
   ]
  },
  {
   "cell_type": "code",
   "execution_count": 4,
   "metadata": {},
   "outputs": [
    {
     "ename": "SyntaxError",
     "evalue": "unexpected EOF while parsing (948253125.py, line 8)",
     "output_type": "error",
     "traceback": [
      "\u001b[1;36m  Cell \u001b[1;32mIn[4], line 8\u001b[1;36m\u001b[0m\n\u001b[1;33m    mod_masses = {'O': 15.994915, 'P':\u001b[0m\n\u001b[1;37m                                      ^\u001b[0m\n\u001b[1;31mSyntaxError\u001b[0m\u001b[1;31m:\u001b[0m unexpected EOF while parsing\n"
     ]
    }
   ],
   "source": [
    "def calc_fragment_ions(peptide, ion_type):\n",
    "    \"\"\"Calculate the theoretical m/z values of the fragment ions of the peptide based on the ion type and fragment tolerance.\"\"\"\n",
    "    aa_masses = {'A': 71.037114, 'R': 156.101111, 'N': 114.042927, 'D': 115.026943,\n",
    "                 'C': 103.009185, 'E': 129.042593, 'Q': 128.058578, 'G': 57.021464,\n",
    "                 'H': 137.058912, 'I': 113.084064, 'L': 113.084064, 'K': 128.094963,\n",
    "                 'M': 131.040485, 'F': 147.068414, 'P': 97.052764, 'S': 87.032028,\n",
    "                 'T': 101.047679, 'W': 186.079313, 'Y': 163.063329, 'V': 99.068414}\n",
    "    mod_masses = {'O': 15.994915, 'P':\n"
   ]
  }
 ],
 "metadata": {
  "kernelspec": {
   "display_name": "bioinformatics",
   "language": "python",
   "name": "python3"
  },
  "language_info": {
   "codemirror_mode": {
    "name": "ipython",
    "version": 3
   },
   "file_extension": ".py",
   "mimetype": "text/x-python",
   "name": "python",
   "nbconvert_exporter": "python",
   "pygments_lexer": "ipython3",
   "version": "3.8.16"
  },
  "orig_nbformat": 4
 },
 "nbformat": 4,
 "nbformat_minor": 2
}
