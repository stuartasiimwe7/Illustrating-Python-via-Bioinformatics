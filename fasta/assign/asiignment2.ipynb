{
 "cells": [
  {
   "cell_type": "code",
   "execution_count": 1,
   "metadata": {},
   "outputs": [],
   "source": [
    "import numpy as np\n",
    "import re"
   ]
  },
  {
   "cell_type": "code",
   "execution_count": 2,
   "metadata": {},
   "outputs": [],
   "source": [
    "def parse_mgf(file):\n",
    "    \"\"\"Parse the spectral file in *.mgf format and store it in memory.\"\"\"\n",
    "    spectra = {}\n",
    "    with open(file) as f:\n",
    "        lines = f.readlines()\n",
    "        i = 0\n",
    "        while i < len(lines):\n",
    "            if lines[i].startswith(\"BEGIN IONS\"):\n",
    "                title = \"\"\n",
    "                m_z = 0\n",
    "                charge = 0\n",
    "                peaks = []\n",
    "                i += 1\n",
    "                while not lines[i].startswith(\"END IONS\"):\n",
    "                    if lines[i].startswith(\"TITLE=\"):\n",
    "                        title = lines[i].strip()[6:]\n",
    "                    elif lines[i].startswith(\"PEPMASS=\"):\n",
    "                        m_z = float(lines[i].strip()[8:])\n",
    "                    elif lines[i].startswith(\"CHARGE=\"):\n",
    "                        charge = int(re.search(r'\\d+', lines[i]).group())\n",
    "                    elif lines[i].strip() and not lines[i].startswith(\"COM=\"):\n",
    "                        peaks.append([float(x) for x in lines[i].strip().split()])\n",
    "                    i += 1\n",
    "                spectra[title] = {\"m_z\": m_z, \"charge\": charge, \"peaks\": peaks}\n",
    "            else:\n",
    "                i += 1\n",
    "    return spectra"
   ]
  },
  {
   "cell_type": "code",
   "execution_count": 3,
   "metadata": {},
   "outputs": [],
   "source": [
    "def parse_peptides(file):\n",
    "    \"\"\"Parse the peptide file in *.txt format and store it in memory.\"\"\"\n",
    "    peptides = []\n",
    "    with open(file) as f:\n",
    "        for line in f:\n",
    "            if line.strip():\n",
    "                specfile, scan, m_z, charge, peptide = line.strip().split()\n",
    "                peptides.append({\"specfile\": specfile, \"scan\": scan, \"m_z\": float(m_z), \"charge\": int(charge), \"peptide\": peptide})\n",
    "    return peptides"
   ]
  },
  {
   "cell_type": "code",
   "execution_count": 4,
   "metadata": {},
   "outputs": [
    {
     "ename": "SyntaxError",
     "evalue": "unexpected EOF while parsing (948253125.py, line 8)",
     "output_type": "error",
     "traceback": [
      "\u001b[1;36m  Cell \u001b[1;32mIn[4], line 8\u001b[1;36m\u001b[0m\n\u001b[1;33m    mod_masses = {'O': 15.994915, 'P':\u001b[0m\n\u001b[1;37m                                      ^\u001b[0m\n\u001b[1;31mSyntaxError\u001b[0m\u001b[1;31m:\u001b[0m unexpected EOF while parsing\n"
     ]
    }
   ],
   "source": [
    "def calc_fragment_ions(peptide, ion_type):\n",
    "    \"\"\"Calculate the theoretical m/z values of the fragment ions of the peptide based on the ion type and fragment tolerance.\"\"\"\n",
    "    aa_masses = {'A': 71.037114, 'R': 156.101111, 'N': 114.042927, 'D': 115.026943,\n",
    "                 'C': 103.009185, 'E': 129.042593, 'Q': 128.058578, 'G': 57.021464,\n",
    "                 'H': 137.058912, 'I': 113.084064, 'L': 113.084064, 'K': 128.094963,\n",
    "                 'M': 131.040485, 'F': 147.068414, 'P': 97.052764, 'S': 87.032028,\n",
    "                 'T': 101.047679, 'W': 186.079313, 'Y': 163.063329, 'V': 99.068414}\n",
    "    mod_masses = {'O': 15.994915, 'P':\n"
   ]
  }
 ],
 "metadata": {
  "kernelspec": {
   "display_name": "bioinformatics",
   "language": "python",
   "name": "python3"
  },
  "language_info": {
   "codemirror_mode": {
    "name": "ipython",
    "version": 3
   },
   "file_extension": ".py",
   "mimetype": "text/x-python",
   "name": "python",
   "nbconvert_exporter": "python",
   "pygments_lexer": "ipython3",
   "version": "3.8.16"
  },
  "orig_nbformat": 4
 },
 "nbformat": 4,
 "nbformat_minor": 2
}
