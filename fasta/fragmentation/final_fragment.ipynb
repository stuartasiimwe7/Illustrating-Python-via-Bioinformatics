{
 "cells": [
  {
   "attachments": {},
   "cell_type": "markdown",
   "metadata": {},
   "source": [
    "# Script split into parts"
   ]
  },
  {
   "cell_type": "code",
   "execution_count": 2,
   "metadata": {},
   "outputs": [],
   "source": [
    "# Importing Necessary Libraries\n",
    "from pyteomics import mgf, pepxml, mass, pylab_aux\n",
    "import pylab\n",
    "import csv\n",
    "from pyopenms import *\n",
    "import numpy as np\n",
    "import pyteomics.mgf"
   ]
  },
  {
   "cell_type": "code",
   "execution_count": 3,
   "metadata": {},
   "outputs": [],
   "source": [
    "#Constants\n",
    "ion_types=('b', 'y')\n",
    "maxcharge = 1\n",
    "fragment_tol = 0.5"
   ]
  },
  {
   "cell_type": "code",
   "execution_count": 4,
   "metadata": {},
   "outputs": [],
   "source": [
    "#FIND OUT THE Relationship between charges [1,2] and maxcharge and how to herners them\n",
    "def fragments(peptide, ion_types=('b', 'y'), maxcharge=1):\n",
    "    \"\"\"\n",
    "    The function generates all possible m/z for fragments of types\n",
    "    `types` and of charges from 1 to `maxharge`.\n",
    "    \"\"\"\n",
    "    for i in range(1, len(peptide)):\n",
    "        for ion_type in ion_types:\n",
    "            for charge in range(1, maxcharge+1):\n",
    "                if ion_type[0] in 'abc':\n",
    "                    yield mass.fast_mass(\n",
    "                            peptide[:i], ion_type=ion_type, charge=charge)\n",
    "                else:\n",
    "                    yield mass.fast_mass(\n",
    "                            peptide[i:], ion_type=ion_type, charge=charge)"
   ]
  },
  {
   "attachments": {},
   "cell_type": "markdown",
   "metadata": {},
   "source": [
    "### Generating Theoretical Peak List and saving them to Text file"
   ]
  },
  {
   "cell_type": "code",
   "execution_count": 6,
   "metadata": {},
   "outputs": [
    {
     "ename": "OSError",
     "evalue": "[Errno 22] Invalid argument: 'https://drive.google.com/file/d/1lZUiIFe80shIZLi1LDWw_1hGW6EimYFr/view?usp=share_link'",
     "output_type": "error",
     "traceback": [
      "\u001b[1;31m---------------------------------------------------------------------------\u001b[0m",
      "\u001b[1;31mOSError\u001b[0m                                   Traceback (most recent call last)",
      "Cell \u001b[1;32mIn[6], line 2\u001b[0m\n\u001b[0;32m      1\u001b[0m valid_aa_codes \u001b[39m=\u001b[39m \u001b[39mset\u001b[39m(\u001b[39m'\u001b[39m\u001b[39mARNDCQEGHILKMFPSTWYV\u001b[39m\u001b[39m'\u001b[39m)\n\u001b[1;32m----> 2\u001b[0m \u001b[39mwith\u001b[39;00m mgf\u001b[39m.\u001b[39;49mread(\u001b[39m'\u001b[39;49m\u001b[39mhttps://drive.google.com/file/d/1lZUiIFe80shIZLi1LDWw_1hGW6EimYFr/view?usp=share_link\u001b[39;49m\u001b[39m'\u001b[39;49m) \u001b[39mas\u001b[39;00m spectra, \u001b[39mopen\u001b[39m(\u001b[39m'\u001b[39m\u001b[39mdata/psmlist_test.txt\u001b[39m\u001b[39m'\u001b[39m, \u001b[39m'\u001b[39m\u001b[39mr\u001b[39m\u001b[39m'\u001b[39m) \u001b[39mas\u001b[39;00m tsvfile, \u001b[39mopen\u001b[39m(\u001b[39m'\u001b[39m\u001b[39mdata/theoretical_peak_list.txt\u001b[39m\u001b[39m'\u001b[39m, \u001b[39m'\u001b[39m\u001b[39mw\u001b[39m\u001b[39m'\u001b[39m) \u001b[39mas\u001b[39;00m peakfile:\n\u001b[0;32m      3\u001b[0m     spectrum \u001b[39m=\u001b[39m \u001b[39mnext\u001b[39m(spectra)\n\u001b[0;32m      4\u001b[0m     reader \u001b[39m=\u001b[39m csv\u001b[39m.\u001b[39mreader(tsvfile, delimiter\u001b[39m=\u001b[39m\u001b[39m'\u001b[39m\u001b[39m\\t\u001b[39;00m\u001b[39m'\u001b[39m)\n",
      "File \u001b[1;32mc:\\Users\\Asiimwe\\anaconda3\\envs\\bioinformatics\\lib\\site-packages\\pyteomics\\mgf.py:458\u001b[0m, in \u001b[0;36mread\u001b[1;34m(*args, **kwargs)\u001b[0m\n\u001b[0;32m    456\u001b[0m use_index \u001b[39m=\u001b[39m aux\u001b[39m.\u001b[39m_check_use_index(source, use_index, \u001b[39mTrue\u001b[39;00m)\n\u001b[0;32m    457\u001b[0m tp \u001b[39m=\u001b[39m IndexedMGF \u001b[39mif\u001b[39;00m use_index \u001b[39melse\u001b[39;00m MGF\n\u001b[1;32m--> 458\u001b[0m \u001b[39mreturn\u001b[39;00m tp(\u001b[39m*\u001b[39;49margs, \u001b[39m*\u001b[39;49m\u001b[39m*\u001b[39;49mkwargs)\n",
      "File \u001b[1;32mc:\\Users\\Asiimwe\\anaconda3\\envs\\bioinformatics\\lib\\site-packages\\pyteomics\\mgf.py:290\u001b[0m, in \u001b[0;36mIndexedMGF.__init__\u001b[1;34m(self, source, use_header, convert_arrays, read_charges, dtype, encoding, index_by_scans, read_ions, _skip_index, **kwargs)\u001b[0m\n\u001b[0;32m    287\u001b[0m \u001b[39mdef\u001b[39;00m \u001b[39m__init__\u001b[39m(\u001b[39mself\u001b[39m, source\u001b[39m=\u001b[39m\u001b[39mNone\u001b[39;00m, use_header\u001b[39m=\u001b[39m\u001b[39mTrue\u001b[39;00m, convert_arrays\u001b[39m=\u001b[39m\u001b[39m2\u001b[39m, read_charges\u001b[39m=\u001b[39m\u001b[39mTrue\u001b[39;00m,\n\u001b[0;32m    288\u001b[0m              dtype\u001b[39m=\u001b[39m\u001b[39mNone\u001b[39;00m, encoding\u001b[39m=\u001b[39m\u001b[39m'\u001b[39m\u001b[39mutf-8\u001b[39m\u001b[39m'\u001b[39m, index_by_scans\u001b[39m=\u001b[39m\u001b[39mFalse\u001b[39;00m, read_ions\u001b[39m=\u001b[39m\u001b[39mFalse\u001b[39;00m, _skip_index\u001b[39m=\u001b[39m\u001b[39mFalse\u001b[39;00m, \u001b[39m*\u001b[39m\u001b[39m*\u001b[39mkwargs):\n\u001b[0;32m    289\u001b[0m     \u001b[39mself\u001b[39m\u001b[39m.\u001b[39mlabel \u001b[39m=\u001b[39m \u001b[39mr\u001b[39m\u001b[39m'\u001b[39m\u001b[39mSCANS=(\u001b[39m\u001b[39m\\\u001b[39m\u001b[39md+)\u001b[39m\u001b[39m\\\u001b[39m\u001b[39ms*\u001b[39m\u001b[39m'\u001b[39m \u001b[39mif\u001b[39;00m index_by_scans \u001b[39melse\u001b[39;00m \u001b[39mr\u001b[39m\u001b[39m'\u001b[39m\u001b[39mTITLE=([^\u001b[39m\u001b[39m\\\u001b[39m\u001b[39mn]*\u001b[39m\u001b[39m\\\u001b[39m\u001b[39mS)\u001b[39m\u001b[39m\\\u001b[39m\u001b[39ms*\u001b[39m\u001b[39m'\u001b[39m\n\u001b[1;32m--> 290\u001b[0m     \u001b[39msuper\u001b[39;49m(IndexedMGF, \u001b[39mself\u001b[39;49m)\u001b[39m.\u001b[39;49m\u001b[39m__init__\u001b[39;49m(source, parser_func\u001b[39m=\u001b[39;49m\u001b[39mself\u001b[39;49m\u001b[39m.\u001b[39;49m_read, pass_file\u001b[39m=\u001b[39;49m\u001b[39mFalse\u001b[39;49;00m, args\u001b[39m=\u001b[39;49m(), kwargs\u001b[39m=\u001b[39;49m{},\n\u001b[0;32m    291\u001b[0m                                      use_header\u001b[39m=\u001b[39;49muse_header, convert_arrays\u001b[39m=\u001b[39;49mconvert_arrays,\n\u001b[0;32m    292\u001b[0m                                      read_charges\u001b[39m=\u001b[39;49mread_charges,\n\u001b[0;32m    293\u001b[0m                                      dtype\u001b[39m=\u001b[39;49mdtype, encoding\u001b[39m=\u001b[39;49mencoding, read_ions\u001b[39m=\u001b[39;49mread_ions, _skip_index\u001b[39m=\u001b[39;49m_skip_index,\n\u001b[0;32m    294\u001b[0m                                      \u001b[39m*\u001b[39;49m\u001b[39m*\u001b[39;49mkwargs)\n",
      "File \u001b[1;32mc:\\Users\\Asiimwe\\anaconda3\\envs\\bioinformatics\\lib\\site-packages\\pyteomics\\mgf.py:131\u001b[0m, in \u001b[0;36mMGFBase.__init__\u001b[1;34m(self, source, **kwargs)\u001b[0m\n\u001b[0;32m     95\u001b[0m \u001b[39mdef\u001b[39;00m \u001b[39m__init__\u001b[39m(\u001b[39mself\u001b[39m, source\u001b[39m=\u001b[39m\u001b[39mNone\u001b[39;00m, \u001b[39m*\u001b[39m\u001b[39m*\u001b[39mkwargs):\n\u001b[0;32m     96\u001b[0m \u001b[39m    \u001b[39m\u001b[39m\"\"\"Create an MGF file object, set MGF-specific parameters.\u001b[39;00m\n\u001b[0;32m     97\u001b[0m \n\u001b[0;32m     98\u001b[0m \u001b[39m    Parameters\u001b[39;00m\n\u001b[1;32m   (...)\u001b[0m\n\u001b[0;32m    128\u001b[0m \u001b[39m        File encoding.\u001b[39;00m\n\u001b[0;32m    129\u001b[0m \u001b[39m    \"\"\"\u001b[39;00m\n\u001b[1;32m--> 131\u001b[0m     \u001b[39msuper\u001b[39;49m(MGFBase, \u001b[39mself\u001b[39;49m)\u001b[39m.\u001b[39;49m\u001b[39m__init__\u001b[39;49m(source, \u001b[39m*\u001b[39;49m\u001b[39m*\u001b[39;49mkwargs)\n\u001b[0;32m    132\u001b[0m     \u001b[39mself\u001b[39m\u001b[39m.\u001b[39m_use_header \u001b[39m=\u001b[39m kwargs\u001b[39m.\u001b[39mpop(\u001b[39m'\u001b[39m\u001b[39muse_header\u001b[39m\u001b[39m'\u001b[39m, \u001b[39mTrue\u001b[39;00m)\n\u001b[0;32m    133\u001b[0m     \u001b[39mself\u001b[39m\u001b[39m.\u001b[39m_convert_arrays \u001b[39m=\u001b[39m kwargs\u001b[39m.\u001b[39mpop(\u001b[39m'\u001b[39m\u001b[39mconvert_arrays\u001b[39m\u001b[39m'\u001b[39m, \u001b[39m2\u001b[39m)\n",
      "File \u001b[1;32mc:\\Users\\Asiimwe\\anaconda3\\envs\\bioinformatics\\lib\\site-packages\\pyteomics\\auxiliary\\file_helpers.py:1020\u001b[0m, in \u001b[0;36mTaskMappingMixin.__init__\u001b[1;34m(self, *args, **kwargs)\u001b[0m\n\u001b[0;32m   1018\u001b[0m \u001b[39mself\u001b[39m\u001b[39m.\u001b[39m_queue_timeout \u001b[39m=\u001b[39m kwargs\u001b[39m.\u001b[39mpop(\u001b[39m'\u001b[39m\u001b[39mtimeout\u001b[39m\u001b[39m'\u001b[39m, _QUEUE_TIMEOUT)\n\u001b[0;32m   1019\u001b[0m \u001b[39mself\u001b[39m\u001b[39m.\u001b[39m_nproc \u001b[39m=\u001b[39m kwargs\u001b[39m.\u001b[39mpop(\u001b[39m'\u001b[39m\u001b[39mprocesses\u001b[39m\u001b[39m'\u001b[39m, _NPROC)\n\u001b[1;32m-> 1020\u001b[0m \u001b[39msuper\u001b[39;49m(TaskMappingMixin, \u001b[39mself\u001b[39;49m)\u001b[39m.\u001b[39;49m\u001b[39m__init__\u001b[39;49m(\u001b[39m*\u001b[39;49margs, \u001b[39m*\u001b[39;49m\u001b[39m*\u001b[39;49mkwargs)\n",
      "File \u001b[1;32mc:\\Users\\Asiimwe\\anaconda3\\envs\\bioinformatics\\lib\\site-packages\\pyteomics\\auxiliary\\file_helpers.py:380\u001b[0m, in \u001b[0;36mTimeOrderedIndexedReaderMixin.__init__\u001b[1;34m(self, *args, **kwargs)\u001b[0m\n\u001b[0;32m    379\u001b[0m \u001b[39mdef\u001b[39;00m \u001b[39m__init__\u001b[39m(\u001b[39mself\u001b[39m, \u001b[39m*\u001b[39margs, \u001b[39m*\u001b[39m\u001b[39m*\u001b[39mkwargs):\n\u001b[1;32m--> 380\u001b[0m     \u001b[39msuper\u001b[39;49m(TimeOrderedIndexedReaderMixin, \u001b[39mself\u001b[39;49m)\u001b[39m.\u001b[39;49m\u001b[39m__init__\u001b[39;49m(\u001b[39m*\u001b[39;49margs, \u001b[39m*\u001b[39;49m\u001b[39m*\u001b[39;49mkwargs)\n\u001b[0;32m    381\u001b[0m     \u001b[39mself\u001b[39m\u001b[39m.\u001b[39m_time \u001b[39m=\u001b[39m RTLocator(\u001b[39mself\u001b[39m)\n",
      "File \u001b[1;32mc:\\Users\\Asiimwe\\anaconda3\\envs\\bioinformatics\\lib\\site-packages\\pyteomics\\auxiliary\\file_helpers.py:401\u001b[0m, in \u001b[0;36mIndexedTextReader.__init__\u001b[1;34m(self, source, **kwargs)\u001b[0m\n\u001b[0;32m    397\u001b[0m \u001b[39mdef\u001b[39;00m \u001b[39m__init__\u001b[39m(\u001b[39mself\u001b[39m, source, \u001b[39m*\u001b[39m\u001b[39m*\u001b[39mkwargs):\n\u001b[0;32m    398\u001b[0m     \u001b[39m# the underlying _file_obj gets None as encoding\u001b[39;00m\n\u001b[0;32m    399\u001b[0m     \u001b[39m# to avoid transparent decoding of StreamReader on read() calls\u001b[39;00m\n\u001b[0;32m    400\u001b[0m     encoding \u001b[39m=\u001b[39m kwargs\u001b[39m.\u001b[39mpop(\u001b[39m'\u001b[39m\u001b[39mencoding\u001b[39m\u001b[39m'\u001b[39m, \u001b[39m'\u001b[39m\u001b[39mutf-8\u001b[39m\u001b[39m'\u001b[39m)\n\u001b[1;32m--> 401\u001b[0m     \u001b[39msuper\u001b[39;49m(IndexedTextReader, \u001b[39mself\u001b[39;49m)\u001b[39m.\u001b[39;49m\u001b[39m__init__\u001b[39;49m(source, mode\u001b[39m=\u001b[39;49m\u001b[39m'\u001b[39;49m\u001b[39mrb\u001b[39;49m\u001b[39m'\u001b[39;49m, encoding\u001b[39m=\u001b[39;49m\u001b[39mNone\u001b[39;49;00m, \u001b[39m*\u001b[39;49m\u001b[39m*\u001b[39;49mkwargs)\n\u001b[0;32m    402\u001b[0m     \u001b[39mself\u001b[39m\u001b[39m.\u001b[39mencoding \u001b[39m=\u001b[39m encoding\n\u001b[0;32m    403\u001b[0m     \u001b[39mfor\u001b[39;00m attr \u001b[39min\u001b[39;00m [\u001b[39m'\u001b[39m\u001b[39mdelimiter\u001b[39m\u001b[39m'\u001b[39m, \u001b[39m'\u001b[39m\u001b[39mlabel\u001b[39m\u001b[39m'\u001b[39m, \u001b[39m'\u001b[39m\u001b[39mblock_size\u001b[39m\u001b[39m'\u001b[39m, \u001b[39m'\u001b[39m\u001b[39mlabel_group\u001b[39m\u001b[39m'\u001b[39m]:\n",
      "File \u001b[1;32mc:\\Users\\Asiimwe\\anaconda3\\envs\\bioinformatics\\lib\\site-packages\\pyteomics\\auxiliary\\file_helpers.py:199\u001b[0m, in \u001b[0;36mFileReader.__init__\u001b[1;34m(self, source, **kwargs)\u001b[0m\n\u001b[0;32m    197\u001b[0m \u001b[39mself\u001b[39m\u001b[39m.\u001b[39m_mode \u001b[39m=\u001b[39m kwargs[\u001b[39m'\u001b[39m\u001b[39mmode\u001b[39m\u001b[39m'\u001b[39m]\n\u001b[0;32m    198\u001b[0m \u001b[39mself\u001b[39m\u001b[39m.\u001b[39m_encoding \u001b[39m=\u001b[39m kwargs\u001b[39m.\u001b[39mget(\u001b[39m'\u001b[39m\u001b[39mencoding\u001b[39m\u001b[39m'\u001b[39m)\n\u001b[1;32m--> 199\u001b[0m \u001b[39mself\u001b[39;49m\u001b[39m.\u001b[39;49mreset()\n",
      "File \u001b[1;32mc:\\Users\\Asiimwe\\anaconda3\\envs\\bioinformatics\\lib\\site-packages\\pyteomics\\auxiliary\\file_helpers.py:204\u001b[0m, in \u001b[0;36mFileReader.reset\u001b[1;34m(self)\u001b[0m\n\u001b[0;32m    202\u001b[0m \u001b[39mif\u001b[39;00m \u001b[39mhasattr\u001b[39m(\u001b[39mself\u001b[39m, \u001b[39m'\u001b[39m\u001b[39m_source\u001b[39m\u001b[39m'\u001b[39m):\n\u001b[0;32m    203\u001b[0m     \u001b[39mself\u001b[39m\u001b[39m.\u001b[39m_source\u001b[39m.\u001b[39m\u001b[39m__exit__\u001b[39m(\u001b[39mNone\u001b[39;00m, \u001b[39mNone\u001b[39;00m, \u001b[39mNone\u001b[39;00m)\n\u001b[1;32m--> 204\u001b[0m \u001b[39mself\u001b[39m\u001b[39m.\u001b[39m_source \u001b[39m=\u001b[39m _file_obj(\u001b[39mself\u001b[39;49m\u001b[39m.\u001b[39;49m_source_init, \u001b[39mself\u001b[39;49m\u001b[39m.\u001b[39;49m_mode, \u001b[39mself\u001b[39;49m\u001b[39m.\u001b[39;49m_encoding)\n\u001b[0;32m    205\u001b[0m \u001b[39mtry\u001b[39;00m:\n\u001b[0;32m    206\u001b[0m     \u001b[39mif\u001b[39;00m \u001b[39mself\u001b[39m\u001b[39m.\u001b[39m_pass_file:\n",
      "File \u001b[1;32mc:\\Users\\Asiimwe\\anaconda3\\envs\\bioinformatics\\lib\\site-packages\\pyteomics\\auxiliary\\file_helpers.py:102\u001b[0m, in \u001b[0;36m_file_obj.__init__\u001b[1;34m(self, f, mode, encoding)\u001b[0m\n\u001b[0;32m    100\u001b[0m     \u001b[39mself\u001b[39m\u001b[39m.\u001b[39m_file_spec \u001b[39m=\u001b[39m \u001b[39mNone\u001b[39;00m\n\u001b[0;32m    101\u001b[0m \u001b[39melif\u001b[39;00m \u001b[39misinstance\u001b[39m(f, basestring):\n\u001b[1;32m--> 102\u001b[0m     \u001b[39mself\u001b[39m\u001b[39m.\u001b[39mfile \u001b[39m=\u001b[39m codecs\u001b[39m.\u001b[39;49mopen(f, mode, encoding)\n\u001b[0;32m    103\u001b[0m     \u001b[39mself\u001b[39m\u001b[39m.\u001b[39m_file_spec \u001b[39m=\u001b[39m f\n\u001b[0;32m    104\u001b[0m \u001b[39melse\u001b[39;00m:\n",
      "File \u001b[1;32mc:\\Users\\Asiimwe\\anaconda3\\envs\\bioinformatics\\lib\\codecs.py:905\u001b[0m, in \u001b[0;36mopen\u001b[1;34m(filename, mode, encoding, errors, buffering)\u001b[0m\n\u001b[0;32m    901\u001b[0m \u001b[39mif\u001b[39;00m encoding \u001b[39mis\u001b[39;00m \u001b[39mnot\u001b[39;00m \u001b[39mNone\u001b[39;00m \u001b[39mand\u001b[39;00m \\\n\u001b[0;32m    902\u001b[0m    \u001b[39m'\u001b[39m\u001b[39mb\u001b[39m\u001b[39m'\u001b[39m \u001b[39mnot\u001b[39;00m \u001b[39min\u001b[39;00m mode:\n\u001b[0;32m    903\u001b[0m     \u001b[39m# Force opening of the file in binary mode\u001b[39;00m\n\u001b[0;32m    904\u001b[0m     mode \u001b[39m=\u001b[39m mode \u001b[39m+\u001b[39m \u001b[39m'\u001b[39m\u001b[39mb\u001b[39m\u001b[39m'\u001b[39m\n\u001b[1;32m--> 905\u001b[0m file \u001b[39m=\u001b[39m builtins\u001b[39m.\u001b[39;49mopen(filename, mode, buffering)\n\u001b[0;32m    906\u001b[0m \u001b[39mif\u001b[39;00m encoding \u001b[39mis\u001b[39;00m \u001b[39mNone\u001b[39;00m:\n\u001b[0;32m    907\u001b[0m     \u001b[39mreturn\u001b[39;00m file\n",
      "\u001b[1;31mOSError\u001b[0m: [Errno 22] Invalid argument: 'https://drive.google.com/file/d/1lZUiIFe80shIZLi1LDWw_1hGW6EimYFr/view?usp=share_link'"
     ]
    }
   ],
   "source": [
    "valid_aa_codes = set('ARNDCQEGHILKMFPSTWYV')\n",
    "with mgf.read('https://drive.google.com/file/d/1lZUiIFe80shIZLi1LDWw_1hGW6EimYFr/view?usp=share_link') as spectra, open('data/psmlist_test.txt', 'r') as tsvfile, open('data/theoretical_peak_list.txt', 'w') as peakfile:\n",
    "    spectrum = next(spectra)\n",
    "    reader = csv.reader(tsvfile, delimiter='\\t')\n",
    "    next(reader, None)\n",
    "    for row in reader:\n",
    "        peptide = row[4]\n",
    "        if not all(aa in valid_aa_codes for aa in peptide):\n",
    "            continue\n",
    "        # Generating Theoretical Peak Lists\n",
    "        fragment_mz_values = fragments(peptide)\n",
    "\n",
    "        # Write the mz values to the theoretical peak list file\n",
    "        for mz in fragment_mz_values:\n",
    "           #print(mz)\n",
    "           peakfile.write(f\"{mz:.4f}\\n\")"
   ]
  },
  {
   "attachments": {},
   "cell_type": "markdown",
   "metadata": {},
   "source": [
    "## Annotating The Peaks"
   ]
  },
  {
   "cell_type": "code",
   "execution_count": 8,
   "metadata": {},
   "outputs": [
    {
     "name": "stdout",
     "output_type": "stream",
     "text": [
      "Found match for peptide KQLATK: theoretical m/z 129.1022, observed m/z 129.0676\n",
      "Found match for peptide KQLATK: theoretical m/z 129.1022, observed m/z 129.1023\n",
      "Found match for peptide KQLATK: theoretical m/z 560.3402, observed m/z 560.3415\n",
      "Found match for peptide KQLATK: theoretical m/z 257.1608, observed m/z 257.1611\n",
      "Found match for peptide KQLATK: theoretical m/z 432.2817, observed m/z 432.2823\n",
      "Found match for peptide KQLATK: theoretical m/z 370.2449, observed m/z 370.2451\n",
      "Found match for peptide KQLATK: theoretical m/z 319.1976, observed m/z 319.1978\n",
      "Found match for peptide KQLATK: theoretical m/z 441.2820, observed m/z 441.2833\n",
      "Found match for peptide KQLATK: theoretical m/z 248.1605, observed m/z 248.1610\n",
      "Found match for peptide KQLATK: theoretical m/z 542.3297, observed m/z 542.3305\n",
      "Found match for peptide KQLATK: theoretical m/z 147.1128, observed m/z 147.1129\n",
      "Found match for peptide MIQMYSNGSSKDR: theoretical m/z 175.1190, observed m/z 175.1194\n",
      "Found match for peptide ETAKLIKEGFMR: theoretical m/z 130.0499, observed m/z 130.0864\n",
      "Found match for peptide ETAKLIKEGFMR: theoretical m/z 130.0499, observed m/z 130.1053\n",
      "Found match for peptide ETAKLIKEGFMR: theoretical m/z 231.0975, observed m/z 231.0151\n",
      "Found match for peptide ETAKLIKEGFMR: theoretical m/z 231.0975, observed m/z 231.1347\n",
      "Found match for peptide ETAKLIKEGFMR: theoretical m/z 231.0975, observed m/z 231.1515\n",
      "Found match for peptide ETAKLIKEGFMR: theoretical m/z 543.3137, observed m/z 543.3146\n",
      "Found match for peptide ETAKLIKEGFMR: theoretical m/z 453.2279, observed m/z 453.2844\n",
      "Found match for peptide ETAKLIKEGFMR: theoretical m/z 175.1190, observed m/z 175.1194\n",
      "Found match for peptide GRPAPGFHHGDGPGNAVQEIMIPASK: theoretical m/z 214.1299, observed m/z 214.1554\n",
      "Found match for peptide GRPAPGFHHGDGPGNAVQEIMIPASK: theoretical m/z 311.1826, observed m/z 311.1721\n",
      "Found match for peptide GRPAPGFHHGDGPGNAVQEIMIPASK: theoretical m/z 515.3188, observed m/z 515.1997\n",
      "Found match for peptide GRPAPGFHHGDGPGNAVQEIMIPASK: theoretical m/z 147.1128, observed m/z 147.1129\n",
      "Found match for peptide IEGLDIHFIHVKPPQLPAGHTPK: theoretical m/z 243.1339, observed m/z 243.1533\n",
      "Found match for peptide IEGLDIHFIHVKPPQLPAGHTPK: theoretical m/z 413.2395, observed m/z 413.2848\n",
      "Found match for peptide IEGLDIHFIHVKPPQLPAGHTPK: theoretical m/z 345.2132, observed m/z 344.7208\n",
      "Found match for peptide IEGLDIHFIHVKPPQLPAGHTPK: theoretical m/z 345.2132, observed m/z 344.9959\n",
      "Found match for peptide IEGLDIHFIHVKPPQLPAGHTPK: theoretical m/z 345.2132, observed m/z 345.2248\n",
      "Found match for peptide IEGLDIHFIHVKPPQLPAGHTPK: theoretical m/z 244.1656, observed m/z 244.0905\n",
      "Found match for peptide IEGLDIHFIHVKPPQLPAGHTPK: theoretical m/z 244.1656, observed m/z 244.1699\n",
      "Found match for peptide IEGLDIHFIHVKPPQLPAGHTPK: theoretical m/z 147.1128, observed m/z 147.1129\n"
     ]
    }
   ],
   "source": [
    "# Read in the theoretical peak list\n",
    "with open('theoretical_peak_list.txt', 'r') as peakfile:\n",
    "    theoretical_peaks = [float(line.strip()) for line in peakfile]\n",
    "\n",
    "# Loop through the spectra in the spectral file\n",
    "with pyteomics.mgf.read('data/hw2_test.mgf') as spectra, open('data/hw2_psmlist_test_v2.txt', 'r') as tsvfile:\n",
    "    spectrum = next(spectra)\n",
    "    reader = csv.reader(tsvfile, delimiter='\\t')\n",
    "    next(reader, None)\n",
    "    for row in reader:\n",
    "        peptide = row[4]\n",
    "        if not all(aa in valid_aa_codes for aa in peptide):\n",
    "            continue\n",
    "        \n",
    "        # Get the peaks for the current spectrum\n",
    "        spectrum_mz = spectrum['m/z array']\n",
    "        spectrum_intensity = spectrum['intensity array']\n",
    "        \n",
    "        # Generate the theoretical peak list for the current peptide sequence\n",
    "        fragment_mz_values = fragments(peptide)\n",
    "        \n",
    "        # Compare the theoretical peaks to the peaks in the spectrum\n",
    "        for mz in fragment_mz_values:\n",
    "            for i in range(len(spectrum_mz)):\n",
    "                if abs(spectrum_mz[i] - mz) <= fragment_tol:\n",
    "                    print(f\"Found match for peptide {peptide}: theoretical m/z {mz:.4f}, observed m/z {spectrum_mz[i]:.4f}\")\n"
   ]
  },
  {
   "attachments": {},
   "cell_type": "markdown",
   "metadata": {},
   "source": [
    "### Annotating Peaks and saving them to file"
   ]
  },
  {
   "cell_type": "code",
   "execution_count": 5,
   "metadata": {},
   "outputs": [
    {
     "ename": "NameError",
     "evalue": "name 'i' is not defined",
     "output_type": "error",
     "traceback": [
      "\u001b[1;31m---------------------------------------------------------------------------\u001b[0m",
      "\u001b[1;31mNameError\u001b[0m                                 Traceback (most recent call last)",
      "Cell \u001b[1;32mIn[5], line 21\u001b[0m\n\u001b[0;32m     19\u001b[0m \u001b[39mfor\u001b[39;00m theoretical_peak \u001b[39min\u001b[39;00m theoretical_peaks:\n\u001b[0;32m     20\u001b[0m     \u001b[39mif\u001b[39;00m \u001b[39mabs\u001b[39m(peak \u001b[39m-\u001b[39m theoretical_peak) \u001b[39m<\u001b[39m\u001b[39m=\u001b[39m fragment_tol:\n\u001b[1;32m---> 21\u001b[0m         annotated_file\u001b[39m.\u001b[39mwrite(\u001b[39mstr\u001b[39m(peak) \u001b[39m+\u001b[39m \u001b[39m'\u001b[39m\u001b[39m\\t\u001b[39;00m\u001b[39m'\u001b[39m \u001b[39m+\u001b[39m \u001b[39mstr\u001b[39m(spectrum[\u001b[39m'\u001b[39m\u001b[39mintensity array\u001b[39m\u001b[39m'\u001b[39m][i]) \u001b[39m+\u001b[39m \u001b[39m'\u001b[39m\u001b[39m\\n\u001b[39;00m\u001b[39m'\u001b[39m)\n\u001b[0;32m     22\u001b[0m         annotated_peaks\u001b[39m.\u001b[39mappend(peak)\n\u001b[0;32m     23\u001b[0m         \u001b[39mbreak\u001b[39;00m\n",
      "\u001b[1;31mNameError\u001b[0m: name 'i' is not defined"
     ]
    }
   ],
   "source": [
    "with mgf.read('data/hw2_test.mgf') as spectra, open('data/hw2_psmlist_test_v2.txt', 'r') as tsvfile, open('theoretical_peak_list.txt', 'w') as theoretical_file, open('annotated_peak_list.txt', 'w') as annotated_file:\n",
    "    spectrum = next(spectra)\n",
    "    reader = csv.reader(tsvfile, delimiter='\\t')\n",
    "    next(reader, None)\n",
    "    for row in reader:\n",
    "        peptide = row[4]\n",
    "        if not all(aa in valid_aa_codes for aa in peptide):\n",
    "            continue\n",
    "        # Generating Theoretical Peak Lists\n",
    "        fragment_mz_values = fragments(peptide)\n",
    "\n",
    "        theoretical_peaks = []\n",
    "        for mz in fragment_mz_values:\n",
    "            theoretical_file.write(str(mz) + '\\n')\n",
    "            theoretical_peaks.append(mz)\n",
    "\n",
    "        annotated_peaks = []\n",
    "        for peak in spectrum['m/z array']:\n",
    "            for theoretical_peak in theoretical_peaks:\n",
    "                if abs(peak - theoretical_peak) <= fragment_tol:\n",
    "                    annotated_file.write(str(peak) + '\\t' + str(spectrum['intensity array'][i]) + '\\n')\n",
    "                    annotated_peaks.append(peak)\n",
    "                    break\n",
    "\n",
    "        # Remove annotated peaks from theoretical peaks\n",
    "        for peak in annotated_peaks:\n",
    "            if peak in theoretical_peaks:\n",
    "                theoretical_peaks.remove(peak)\n"
   ]
  },
  {
   "attachments": {},
   "cell_type": "markdown",
   "metadata": {},
   "source": [
    "#### The code below, tries not only to save the theoretical Peaks lists and Annotated Peak lists but also tries to do that in the specified in the assignnment. So to get rid of the error - this should be the end of the assignment - FIGHTING!!"
   ]
  },
  {
   "cell_type": "code",
   "execution_count": 6,
   "metadata": {},
   "outputs": [],
   "source": [
    "valid_aa_codes = set('ARNDCQEGHILKMFPSTWYV')\n",
    "fragment_tol = 0.5\n",
    "ion_types = ('b', 'y')\n",
    "\n",
    "# Function to generate all possible m/z for fragments of types `ion_types` and of charges from 1 to `maxcharge`\n",
    "def fragments(peptide, ion_types=('b', 'y'), maxcharge=1):\n",
    "    for i in range(1, len(peptide)):\n",
    "        for ion_type in ion_types:\n",
    "            for charge in range(1, maxcharge+1):\n",
    "                if ion_type[0] in 'abc':\n",
    "                    yield mass.fast_mass(peptide[:i], ion_type=ion_type, charge=charge)\n",
    "                else:\n",
    "                    yield mass.fast_mass(peptide[i:], ion_type=ion_type, charge=charge)\n",
    "\n",
    "# Output files\n",
    "theoretical_peak_list_file = open('output/Theoretical_peak_list.txt', 'w')\n",
    "psm_annotated_peak_list_file = open('output/PSM_annotated_peak_list.txt', 'w')\n",
    "\n",
    "# Read PSM list file and MGF spectrum file\n",
    "with mgf.read('data/hw2_test.mgf') as spectra, open('data/hw2_psmlist_test_v2.txt', 'r') as tsvfile:\n",
    "    reader = csv.reader(tsvfile, delimiter='\\t')\n",
    "    next(reader, None)\n",
    "    for row in reader:\n",
    "        peptide = row[4]\n",
    "        if not all(aa in valid_aa_codes for aa in peptide):\n",
    "            continue\n",
    "\n",
    "        # Generating Theoretical Peak Lists\n",
    "        fragment_mz_values = list(fragments(peptide, ion_types=ion_types, maxcharge=2))\n",
    "        #print(fragment_mz_values)\n",
    "        # Write theoretical peak list to file\n",
    "        theoretical_peak_list_file.write('BEGIN\\n')\n",
    "        theoretical_peak_list_file.write(f'PEPTIDE={peptide}\\n')\n",
    "        theoretical_peak_list_file.write(f'TITLE={row[1]}\\n')\n",
    "        \n",
    "        for i, mz in enumerate(fragment_mz_values):\n",
    "            ion_label = ion_types[i % len(ion_types)] + str((i // 2) + 1) + \"+\" * (i % 2 + i // 2) # generate a label for the ion\n",
    "            theoretical_peak_list_file.write(f'{ion_label}\\t{mz}\\n')\n",
    "        theoretical_peak_list_file.write('END\\n\\n')\n",
    "\n",
    "        # Find matching peaks in the spectrum and write to annotated peak list file\n",
    "        psm_annotated_peak_list_file.write('BEGIN\\n')\n",
    "        psm_annotated_peak_list_file.write(f'PEPTIDE={peptide}\\n')\n",
    "        psm_annotated_peak_list_file.write(f'TITLE={row[1]}\\n')\n",
    "        \n",
    "        for mz, intensity in zip(spectra[0]['m/z array'], spectra[0]['intensity array']):\n",
    "            if any(abs(mz - frag_mz) <= fragment_tol for frag_mz in fragment_mz_values):\n",
    "                #ion_label = f'{ion_types[fragment_mz_values.index(frag_mz)%2]}{fragment_mz_values.index(frag_mz)//2+1}+'\n",
    "               if mz in fragment_mz_values:\n",
    "                    ion_label = f'{ion_types[fragment_mz_values.index(mz) % 2]}{fragment_mz_values.index(mz) // 2 + 1}+'\n",
    "                    psm_annotated_peak_list_file.write(f'{ion_label}\\t{mz}\\t{intensity}\\n')\n",
    "        psm_annotated_peak_list_file.write('END\\n\\n')\n",
    "\n",
    "theoretical_peak_list_file.close()\n",
    "psm_annotated_peak_list_file.close()\n"
   ]
  },
  {
   "cell_type": "code",
   "execution_count": null,
   "metadata": {},
   "outputs": [],
   "source": [
    "valid_aa_codes = set('ARNDCQEGHILKMFPSTWYV')\n",
    "tolerance = 0.5\n",
    "\n",
    "with mgf.read('data/hw2_test.mgf') as spectra, open('data/hw2_psmlist_test_v2.txt', 'r') as tsvfile, open('theoretical_peak_list.txt', 'w') as theoretical_file, open('annotated_peak_list.txt', 'w') as annotated_file:\n",
    "    spectrum = next(spectra)\n",
    "    reader = csv.reader(tsvfile, delimiter='\\t')\n",
    "    next(reader, None)\n",
    "    for row in reader:\n",
    "        peptide = row[4]\n",
    "        if not all(aa in valid_aa_codes for aa in peptide):\n",
    "            continue\n",
    "        # Generating Theoretical Peak Lists\n",
    "        fragment_mz_values = fragments(peptide)\n",
    "\n",
    "        theoretical_peaks = []\n",
    "        for mz in fragment_mz_values:\n",
    "            theoretical_file.write(str(mz) + '\\n')\n",
    "            theoretical_peaks.append(mz)\n",
    "\n",
    "        annotated_peaks = []\n",
    "        for i in range(len(spectrum['m/z array'])):\n",
    "            peak = spectrum['m/z array'][i]\n",
    "            for theoretical_peak in theoretical_peaks:\n",
    "                if abs(peak - theoretical_peak) <= tolerance:\n",
    "                    annotated_file.write(str(peak) + '\\t' + str(spectrum['intensity array'][i]) + '\\n')\n",
    "                    annotated_peaks.append(peak)\n",
    "                    break\n",
    "\n",
    "        # Remove annotated peaks from theoretical peaks\n",
    "        for peak in annotated_peaks:\n",
    "            if peak in theoretical_peaks:\n"
   ]
  }
 ],
 "metadata": {
  "kernelspec": {
   "display_name": "bioinformatics",
   "language": "python",
   "name": "python3"
  },
  "language_info": {
   "codemirror_mode": {
    "name": "ipython",
    "version": 3
   },
   "file_extension": ".py",
   "mimetype": "text/x-python",
   "name": "python",
   "nbconvert_exporter": "python",
   "pygments_lexer": "ipython3",
   "version": "3.8.16"
  },
  "orig_nbformat": 4
 },
 "nbformat": 4,
 "nbformat_minor": 2
}
