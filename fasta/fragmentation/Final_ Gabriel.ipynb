{
 "cells": [
  {
   "attachments": {},
   "cell_type": "markdown",
   "metadata": {},
   "source": [
    "# Script split into parts"
   ]
  },
  {
   "cell_type": "code",
   "execution_count": 2,
   "metadata": {},
   "outputs": [],
   "source": [
    "# Importing Necessary Libraries\n",
    "from pyteomics import mgf, pepxml, mass, pylab_aux\n",
    "import pylab\n",
    "import csv\n",
    "from pyopenms import *\n",
    "import numpy as np\n",
    "import pyteomics.mgf"
   ]
  },
  {
   "cell_type": "code",
   "execution_count": 3,
   "metadata": {},
   "outputs": [],
   "source": [
    "#Constants\n",
    "ion_types=('b', 'y')\n",
    "maxcharge = 1\n",
    "fragment_tol = 0.5"
   ]
  },
  {
   "cell_type": "code",
   "execution_count": 4,
   "metadata": {},
   "outputs": [],
   "source": [
    "#FIND OUT THE Relationship between charges [1,2] and maxcharge and how to herners them\n",
    "def fragments(peptide, ion_types=('b', 'y'), maxcharge=1):\n",
    "    \"\"\"\n",
    "    The function generates all possible m/z for fragments of types\n",
    "    `types` and of charges from 1 to `maxharge`.\n",
    "    \"\"\"\n",
    "    for i in range(1, len(peptide)):\n",
    "        for ion_type in ion_types:\n",
    "            for charge in range(1, maxcharge+1):\n",
    "                if ion_type[0] in 'abc':\n",
    "                    yield mass.fast_mass(\n",
    "                            peptide[:i], ion_type=ion_type, charge=charge)\n",
    "                else:\n",
    "                    yield mass.fast_mass(\n",
    "                            peptide[i:], ion_type=ion_type, charge=charge)"
   ]
  },
  {
   "attachments": {},
   "cell_type": "markdown",
   "metadata": {},
   "source": [
    "### Generating Theoretical Peak List and saving them to Text file"
   ]
  },
  {
   "cell_type": "code",
   "execution_count": 7,
   "metadata": {},
   "outputs": [],
   "source": [
    "valid_aa_codes = set('ARNDCQEGHILKMFPSTWYV')\n",
    "with mgf.read('data/hw2_test.mgf') as spectra, open('data/hw2_psmlist_test_v2.txt', 'r') as tsvfile, open('data/theoretical_peak_list.txt', 'w') as peakfile:\n",
    "    spectrum = next(spectra)\n",
    "    reader = csv.reader(tsvfile, delimiter='\\t')\n",
    "    next(reader, None)\n",
    "    for row in reader:\n",
    "        peptide = row[4]\n",
    "        if not all(aa in valid_aa_codes for aa in peptide):\n",
    "            continue\n",
    "        # Generating Theoretical Peak Lists\n",
    "        fragment_mz_values = fragments(peptide)\n",
    "\n",
    "        # Write the mz values to the theoretical peak list file\n",
    "        for mz in fragment_mz_values:\n",
    "           #print(mz)\n",
    "           peakfile.write(f\"{mz:.4f}\\n\")"
   ]
  },
  {
   "attachments": {},
   "cell_type": "markdown",
   "metadata": {},
   "source": [
    "## Annotating The Peaks"
   ]
  },
  {
   "cell_type": "code",
   "execution_count": 8,
   "metadata": {},
   "outputs": [
    {
     "name": "stdout",
     "output_type": "stream",
     "text": [
      "Found match for peptide KQLATK: theoretical m/z 129.1022, observed m/z 129.0676\n",
      "Found match for peptide KQLATK: theoretical m/z 129.1022, observed m/z 129.1023\n",
      "Found match for peptide KQLATK: theoretical m/z 560.3402, observed m/z 560.3415\n",
      "Found match for peptide KQLATK: theoretical m/z 257.1608, observed m/z 257.1611\n",
      "Found match for peptide KQLATK: theoretical m/z 432.2817, observed m/z 432.2823\n",
      "Found match for peptide KQLATK: theoretical m/z 370.2449, observed m/z 370.2451\n",
      "Found match for peptide KQLATK: theoretical m/z 319.1976, observed m/z 319.1978\n",
      "Found match for peptide KQLATK: theoretical m/z 441.2820, observed m/z 441.2833\n",
      "Found match for peptide KQLATK: theoretical m/z 248.1605, observed m/z 248.1610\n",
      "Found match for peptide KQLATK: theoretical m/z 542.3297, observed m/z 542.3305\n",
      "Found match for peptide KQLATK: theoretical m/z 147.1128, observed m/z 147.1129\n",
      "Found match for peptide MIQMYSNGSSKDR: theoretical m/z 175.1190, observed m/z 175.1194\n",
      "Found match for peptide ETAKLIKEGFMR: theoretical m/z 130.0499, observed m/z 130.0864\n",
      "Found match for peptide ETAKLIKEGFMR: theoretical m/z 130.0499, observed m/z 130.1053\n",
      "Found match for peptide ETAKLIKEGFMR: theoretical m/z 231.0975, observed m/z 231.0151\n",
      "Found match for peptide ETAKLIKEGFMR: theoretical m/z 231.0975, observed m/z 231.1347\n",
      "Found match for peptide ETAKLIKEGFMR: theoretical m/z 231.0975, observed m/z 231.1515\n",
      "Found match for peptide ETAKLIKEGFMR: theoretical m/z 543.3137, observed m/z 543.3146\n",
      "Found match for peptide ETAKLIKEGFMR: theoretical m/z 453.2279, observed m/z 453.2844\n",
      "Found match for peptide ETAKLIKEGFMR: theoretical m/z 175.1190, observed m/z 175.1194\n",
      "Found match for peptide GRPAPGFHHGDGPGNAVQEIMIPASK: theoretical m/z 214.1299, observed m/z 214.1554\n",
      "Found match for peptide GRPAPGFHHGDGPGNAVQEIMIPASK: theoretical m/z 311.1826, observed m/z 311.1721\n",
      "Found match for peptide GRPAPGFHHGDGPGNAVQEIMIPASK: theoretical m/z 515.3188, observed m/z 515.1997\n",
      "Found match for peptide GRPAPGFHHGDGPGNAVQEIMIPASK: theoretical m/z 147.1128, observed m/z 147.1129\n",
      "Found match for peptide IEGLDIHFIHVKPPQLPAGHTPK: theoretical m/z 243.1339, observed m/z 243.1533\n",
      "Found match for peptide IEGLDIHFIHVKPPQLPAGHTPK: theoretical m/z 413.2395, observed m/z 413.2848\n",
      "Found match for peptide IEGLDIHFIHVKPPQLPAGHTPK: theoretical m/z 345.2132, observed m/z 344.7208\n",
      "Found match for peptide IEGLDIHFIHVKPPQLPAGHTPK: theoretical m/z 345.2132, observed m/z 344.9959\n",
      "Found match for peptide IEGLDIHFIHVKPPQLPAGHTPK: theoretical m/z 345.2132, observed m/z 345.2248\n",
      "Found match for peptide IEGLDIHFIHVKPPQLPAGHTPK: theoretical m/z 244.1656, observed m/z 244.0905\n",
      "Found match for peptide IEGLDIHFIHVKPPQLPAGHTPK: theoretical m/z 244.1656, observed m/z 244.1699\n",
      "Found match for peptide IEGLDIHFIHVKPPQLPAGHTPK: theoretical m/z 147.1128, observed m/z 147.1129\n"
     ]
    }
   ],
   "source": [
    "# Read in the theoretical peak list\n",
    "with open('theoretical_peak_list.txt', 'r') as peakfile:\n",
    "    theoretical_peaks = [float(line.strip()) for line in peakfile]\n",
    "\n",
    "# Loop through the spectra in the spectral file\n",
    "with pyteomics.mgf.read('data/hw2_test.mgf') as spectra, open('data/hw2_psmlist_test_v2.txt', 'r') as tsvfile:\n",
    "    spectrum = next(spectra)\n",
    "    reader = csv.reader(tsvfile, delimiter='\\t')\n",
    "    next(reader, None)\n",
    "    for row in reader:\n",
    "        peptide = row[4]\n",
    "        if not all(aa in valid_aa_codes for aa in peptide):\n",
    "            continue\n",
    "        \n",
    "        # Get the peaks for the current spectrum\n",
    "        spectrum_mz = spectrum['m/z array']\n",
    "        spectrum_intensity = spectrum['intensity array']\n",
    "        \n",
    "        # Generate the theoretical peak list for the current peptide sequence\n",
    "        fragment_mz_values = fragments(peptide)\n",
    "        \n",
    "        # Compare the theoretical peaks to the peaks in the spectrum\n",
    "        for mz in fragment_mz_values:\n",
    "            for i in range(len(spectrum_mz)):\n",
    "                if abs(spectrum_mz[i] - mz) <= fragment_tol:\n",
    "                    print(f\"Found match for peptide {peptide}: theoretical m/z {mz:.4f}, observed m/z {spectrum_mz[i]:.4f}\")\n"
   ]
  },
  {
   "attachments": {},
   "cell_type": "markdown",
   "metadata": {},
   "source": [
    "### Annotating Peaks and saving them to file"
   ]
  },
  {
   "cell_type": "code",
   "execution_count": 5,
   "metadata": {},
   "outputs": [
    {
     "ename": "NameError",
     "evalue": "name 'i' is not defined",
     "output_type": "error",
     "traceback": [
      "\u001b[1;31m---------------------------------------------------------------------------\u001b[0m",
      "\u001b[1;31mNameError\u001b[0m                                 Traceback (most recent call last)",
      "Cell \u001b[1;32mIn[5], line 21\u001b[0m\n\u001b[0;32m     19\u001b[0m \u001b[39mfor\u001b[39;00m theoretical_peak \u001b[39min\u001b[39;00m theoretical_peaks:\n\u001b[0;32m     20\u001b[0m     \u001b[39mif\u001b[39;00m \u001b[39mabs\u001b[39m(peak \u001b[39m-\u001b[39m theoretical_peak) \u001b[39m<\u001b[39m\u001b[39m=\u001b[39m fragment_tol:\n\u001b[1;32m---> 21\u001b[0m         annotated_file\u001b[39m.\u001b[39mwrite(\u001b[39mstr\u001b[39m(peak) \u001b[39m+\u001b[39m \u001b[39m'\u001b[39m\u001b[39m\\t\u001b[39;00m\u001b[39m'\u001b[39m \u001b[39m+\u001b[39m \u001b[39mstr\u001b[39m(spectrum[\u001b[39m'\u001b[39m\u001b[39mintensity array\u001b[39m\u001b[39m'\u001b[39m][i]) \u001b[39m+\u001b[39m \u001b[39m'\u001b[39m\u001b[39m\\n\u001b[39;00m\u001b[39m'\u001b[39m)\n\u001b[0;32m     22\u001b[0m         annotated_peaks\u001b[39m.\u001b[39mappend(peak)\n\u001b[0;32m     23\u001b[0m         \u001b[39mbreak\u001b[39;00m\n",
      "\u001b[1;31mNameError\u001b[0m: name 'i' is not defined"
     ]
    }
   ],
   "source": [
    "with mgf.read('data/hw2_test.mgf') as spectra, open('data/hw2_psmlist_test_v2.txt', 'r') as tsvfile, open('theoretical_peak_list.txt', 'w') as theoretical_file, open('annotated_peak_list.txt', 'w') as annotated_file:\n",
    "    spectrum = next(spectra)\n",
    "    reader = csv.reader(tsvfile, delimiter='\\t')\n",
    "    next(reader, None)\n",
    "    for row in reader:\n",
    "        peptide = row[4]\n",
    "        if not all(aa in valid_aa_codes for aa in peptide):\n",
    "            continue\n",
    "        # Generating Theoretical Peak Lists\n",
    "        fragment_mz_values = fragments(peptide)\n",
    "\n",
    "        theoretical_peaks = []\n",
    "        for mz in fragment_mz_values:\n",
    "            theoretical_file.write(str(mz) + '\\n')\n",
    "            theoretical_peaks.append(mz)\n",
    "\n",
    "        annotated_peaks = []\n",
    "        for peak in spectrum['m/z array']:\n",
    "            for theoretical_peak in theoretical_peaks:\n",
    "                if abs(peak - theoretical_peak) <= fragment_tol:\n",
    "                    annotated_file.write(str(peak) + '\\t' + str(spectrum['intensity array'][i]) + '\\n')\n",
    "                    annotated_peaks.append(peak)\n",
    "                    break\n",
    "\n",
    "        # Remove annotated peaks from theoretical peaks\n",
    "        for peak in annotated_peaks:\n",
    "            if peak in theoretical_peaks:\n",
    "                theoretical_peaks.remove(peak)\n"
   ]
  },
  {
   "attachments": {},
   "cell_type": "markdown",
   "metadata": {},
   "source": [
    "#### The code below, tries not only to save the theoretical Peaks lists and Annotated Peak lists but also tries to do that in the specified in the assignnment. So to get rid of the error - this should be the end of the assignment - FIGHTING!!"
   ]
  },
  {
   "cell_type": "code",
   "execution_count": 6,
   "metadata": {},
   "outputs": [],
   "source": [
    "valid_aa_codes = set('ARNDCQEGHILKMFPSTWYV')\n",
    "fragment_tol = 0.5\n",
    "ion_types = ('b', 'y')\n",
    "\n",
    "# Function to generate all possible m/z for fragments of types `ion_types` and of charges from 1 to `maxcharge`\n",
    "def fragments(peptide, ion_types=('b', 'y'), maxcharge=1):\n",
    "    for i in range(1, len(peptide)):\n",
    "        for ion_type in ion_types:\n",
    "            for charge in range(1, maxcharge+1):\n",
    "                if ion_type[0] in 'abc':\n",
    "                    yield mass.fast_mass(peptide[:i], ion_type=ion_type, charge=charge)\n",
    "                else:\n",
    "                    yield mass.fast_mass(peptide[i:], ion_type=ion_type, charge=charge)\n",
    "\n",
    "# Output files\n",
    "theoretical_peak_list_file = open('output/Theoretical_peak_list.txt', 'w')\n",
    "psm_annotated_peak_list_file = open('output/PSM_annotated_peak_list.txt', 'w')\n",
    "\n",
    "# Read PSM list file and MGF spectrum file\n",
    "with mgf.read('data/hw2_test.mgf') as spectra, open('data/hw2_psmlist_test_v2.txt', 'r') as tsvfile:\n",
    "    reader = csv.reader(tsvfile, delimiter='\\t')\n",
    "    next(reader, None)\n",
    "    for row in reader:\n",
    "        peptide = row[4]\n",
    "        if not all(aa in valid_aa_codes for aa in peptide):\n",
    "            continue\n",
    "\n",
    "        # Generating Theoretical Peak Lists\n",
    "        fragment_mz_values = list(fragments(peptide, ion_types=ion_types, maxcharge=2))\n",
    "        #print(fragment_mz_values)\n",
    "        # Write theoretical peak list to file\n",
    "        theoretical_peak_list_file.write('BEGIN\\n')\n",
    "        theoretical_peak_list_file.write(f'PEPTIDE={peptide}\\n')\n",
    "        theoretical_peak_list_file.write(f'TITLE={row[1]}\\n')\n",
    "        \n",
    "        for i, mz in enumerate(fragment_mz_values):\n",
    "            ion_label = ion_types[i % len(ion_types)] + str((i // 2) + 1) + \"+\" * (i % 2 + i // 2) # generate a label for the ion\n",
    "            theoretical_peak_list_file.write(f'{ion_label}\\t{mz}\\n')\n",
    "        theoretical_peak_list_file.write('END\\n\\n')\n",
    "\n",
    "        # Find matching peaks in the spectrum and write to annotated peak list file\n",
    "        psm_annotated_peak_list_file.write('BEGIN\\n')\n",
    "        psm_annotated_peak_list_file.write(f'PEPTIDE={peptide}\\n')\n",
    "        psm_annotated_peak_list_file.write(f'TITLE={row[1]}\\n')\n",
    "        \n",
    "        for mz, intensity in zip(spectra[0]['m/z array'], spectra[0]['intensity array']):\n",
    "            if any(abs(mz - frag_mz) <= fragment_tol for frag_mz in fragment_mz_values):\n",
    "                #ion_label = f'{ion_types[fragment_mz_values.index(frag_mz)%2]}{fragment_mz_values.index(frag_mz)//2+1}+'\n",
    "               if mz in fragment_mz_values:\n",
    "                    ion_label = f'{ion_types[fragment_mz_values.index(mz) % 2]}{fragment_mz_values.index(mz) // 2 + 1}+'\n",
    "                    psm_annotated_peak_list_file.write(f'{ion_label}\\t{mz}\\t{intensity}\\n')\n",
    "        psm_annotated_peak_list_file.write('END\\n\\n')\n",
    "\n",
    "theoretical_peak_list_file.close()\n",
    "psm_annotated_peak_list_file.close()\n"
   ]
  },
  {
   "cell_type": "code",
   "execution_count": null,
   "metadata": {},
   "outputs": [],
   "source": [
    "valid_aa_codes = set('ARNDCQEGHILKMFPSTWYV')\n",
    "tolerance = 0.5\n",
    "\n",
    "with mgf.read('data/hw2_test.mgf') as spectra, open('data/hw2_psmlist_test_v2.txt', 'r') as tsvfile, open('theoretical_peak_list.txt', 'w') as theoretical_file, open('annotated_peak_list.txt', 'w') as annotated_file:\n",
    "    spectrum = next(spectra)\n",
    "    reader = csv.reader(tsvfile, delimiter='\\t')\n",
    "    next(reader, None)\n",
    "    for row in reader:\n",
    "        peptide = row[4]\n",
    "        if not all(aa in valid_aa_codes for aa in peptide):\n",
    "            continue\n",
    "        # Generating Theoretical Peak Lists\n",
    "        fragment_mz_values = fragments(peptide)\n",
    "\n",
    "        theoretical_peaks = []\n",
    "        for mz in fragment_mz_values:\n",
    "            theoretical_file.write(str(mz) + '\\n')\n",
    "            theoretical_peaks.append(mz)\n",
    "\n",
    "        annotated_peaks = []\n",
    "        for i in range(len(spectrum['m/z array'])):\n",
    "            peak = spectrum['m/z array'][i]\n",
    "            for theoretical_peak in theoretical_peaks:\n",
    "                if abs(peak - theoretical_peak) <= tolerance:\n",
    "                    annotated_file.write(str(peak) + '\\t' + str(spectrum['intensity array'][i]) + '\\n')\n",
    "                    annotated_peaks.append(peak)\n",
    "                    break\n",
    "\n",
    "        # Remove annotated peaks from theoretical peaks\n",
    "        for peak in annotated_peaks:\n",
    "            if peak in theoretical_peaks:\n"
   ]
  }
 ],
 "metadata": {
  "kernelspec": {
   "display_name": "bioinformatics",
   "language": "python",
   "name": "python3"
  },
  "language_info": {
   "codemirror_mode": {
    "name": "ipython",
    "version": 3
   },
   "file_extension": ".py",
   "mimetype": "text/x-python",
   "name": "python",
   "nbconvert_exporter": "python",
   "pygments_lexer": "ipython3",
   "version": "3.8.16"
  },
  "orig_nbformat": 4
 },
 "nbformat": 4,
 "nbformat_minor": 2
}
