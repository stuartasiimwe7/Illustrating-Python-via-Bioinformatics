{
 "cells": [
  {
   "cell_type": "markdown",
   "metadata": {},
   "source": [
    "### Preprocessing File"
   ]
  },
  {
   "cell_type": "code",
   "execution_count": 2,
   "metadata": {},
   "outputs": [],
   "source": [
    "file_name = \"Insert_your_file_here.pin\""
   ]
  },
  {
   "cell_type": "code",
   "execution_count": 3,
   "metadata": {},
   "outputs": [],
   "source": [
    "def preprocess(file_name):\n",
    "\n",
    "    file = open(file_name, \"r\")\n",
    "    file_write = open(\"new_input.pin\", \"w\")\n",
    "    lines = file.readlines()\n",
    "\n",
    "    for a in lines:\n",
    "        a = a.replace(\"\\\"\", '')\n",
    "        file_write.write(a)\n",
    "    file_write.close()\n",
    "    file.close()\n"
   ]
  },
  {
   "cell_type": "code",
   "execution_count": 6,
   "metadata": {},
   "outputs": [],
   "source": [
    "preprocess(file_name)"
   ]
  },
  {
   "attachments": {},
   "cell_type": "markdown",
   "metadata": {},
   "source": [
    "### Calling the Percolator"
   ]
  },
  {
   "attachments": {},
   "cell_type": "markdown",
   "metadata": {},
   "source": [
    "##### There comes a time when you need to inclide the percolator into the python code instead of running in the CMD for pre-pre-processing"
   ]
  },
  {
   "cell_type": "code",
   "execution_count": null,
   "metadata": {},
   "outputs": [],
   "source": [
    "import subprocess"
   ]
  },
  {
   "cell_type": "code",
   "execution_count": null,
   "metadata": {},
   "outputs": [],
   "source": [
    "#path to the input file\n",
    "input_file = 'new_input.pin'"
   ]
  },
  {
   "cell_type": "code",
   "execution_count": null,
   "metadata": {},
   "outputs": [],
   "source": [
    "#command to call Percolator\n",
    "call = ['percolator', input_file]"
   ]
  },
  {
   "cell_type": "code",
   "execution_count": null,
   "metadata": {},
   "outputs": [],
   "source": [
    "#executing the command with try & exemptions check\n",
    "try:\n",
    "    output = subprocess.check_output(call, universal_newlines=True)\n",
    "    with open('new_output.psm','w') as file:\n",
    "        file.write(output)\n",
    "\n",
    "    print(\"Rescoring Successfull! File saved as \\'new_output.psm\\'\")\n",
    "\n",
    "except subprocess.CalledProcessError as e:\n",
    "    print(\"RESCORING FAILED!: \",e)"
   ]
  }
 ],
 "metadata": {
  "kernelspec": {
   "display_name": "bioinformatics",
   "language": "python",
   "name": "python3"
  },
  "language_info": {
   "codemirror_mode": {
    "name": "ipython",
    "version": 3
   },
   "file_extension": ".py",
   "mimetype": "text/x-python",
   "name": "python",
   "nbconvert_exporter": "python",
   "pygments_lexer": "ipython3",
   "version": "3.10.11"
  },
  "orig_nbformat": 4
 },
 "nbformat": 4,
 "nbformat_minor": 2
}
