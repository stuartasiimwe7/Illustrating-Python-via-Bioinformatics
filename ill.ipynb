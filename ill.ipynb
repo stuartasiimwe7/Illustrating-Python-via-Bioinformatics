{
 "cells": [
  {
   "attachments": {},
   "cell_type": "markdown",
   "metadata": {},
   "source": [
    "Counting Letters in DNA String\n",
    "Loop over the letters in the string, test if the current letter equals the desired one, and if so, increase the counter. \n",
    "This is easily done by converting a string to a list: Looping over the letters is easier if the letters are stored in a list."
   ]
  },
  {
   "cell_type": "code",
   "execution_count": 6,
   "metadata": {},
   "outputs": [
    {
     "name": "stdout",
     "output_type": "stream",
     "text": [
      "ATGC\n"
     ]
    }
   ],
   "source": [
    "dna = 'ATGC'\n",
    "print(dna)"
   ]
  },
  {
   "cell_type": "code",
   "execution_count": 8,
   "metadata": {},
   "outputs": [
    {
     "name": "stdout",
     "output_type": "stream",
     "text": [
      "A\n",
      "T\n",
      "G\n",
      "C\n"
     ]
    }
   ],
   "source": [
    "for a in dna:\n",
    "    print(a)"
   ]
  },
  {
   "cell_type": "code",
   "execution_count": 5,
   "metadata": {},
   "outputs": [],
   "source": [
    "def count(dna, base):\n",
    "    i=0\n",
    "    for a in dna:\n",
    "        if a == base:\n",
    "            i+=1\n",
    "    return i\n",
    "    \n",
    "dna = 'ATGCGGACCTAT'\n",
    "base = 'C'\n",
    "n = count_v2(dna, base)"
   ]
  },
  {
   "cell_type": "code",
   "execution_count": null,
   "metadata": {},
   "outputs": [],
   "source": []
  }
 ],
 "metadata": {
  "kernelspec": {
   "display_name": "base",
   "language": "python",
   "name": "python3"
  },
  "language_info": {
   "codemirror_mode": {
    "name": "ipython",
    "version": 3
   },
   "file_extension": ".py",
   "mimetype": "text/x-python",
   "name": "python",
   "nbconvert_exporter": "python",
   "pygments_lexer": "ipython3",
   "version": "3.9.12 (main, Apr  4 2022, 05:22:27) [MSC v.1916 64 bit (AMD64)]"
  },
  "orig_nbformat": 4,
  "vscode": {
   "interpreter": {
    "hash": "62fecb25abd4c447497fd23f5e2503c7ee19ef7304f9e535e2f4672bf3e57901"
   }
  }
 },
 "nbformat": 4,
 "nbformat_minor": 2
}
