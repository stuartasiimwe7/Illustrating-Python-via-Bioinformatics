{
 "cells": [
  {
   "attachments": {},
   "cell_type": "markdown",
   "metadata": {},
   "source": [
    "# ILLUSTRATING PYTHON VIA BIOINFORMATICS\n",
    "In order to illustrate the use of Python in bioinformatics one should be able to show how it can be used to analyze and manipulate biological data, such as DNA sequences. \n",
    "For example, you could demonstrate how to use Python libraries such as Biopython to perform tasks such as sequence alignment, gene annotation, and phylogenetic analysis. \n",
    "Additionally, you could show how Python can be used in conjunction with other bioinformatics tools, such as Blast, to automate and streamline various bioinformatics workflow. Another way to utilize the capabilities of Python in bioinformatics is through data visualization, which can be achieved by utilizing libraries such as matplotlib, seaborn and plotly."
   ]
  },
  {
   "attachments": {},
   "cell_type": "markdown",
   "metadata": {},
   "source": [
    "## Table of Contents\n",
    "1. #### Basics\n",
    "    1.1 Python DNA Strings Manipulation  \n",
    "    1.2 Python Symmetrical or Palindrome string Confirmation  \n",
    "2. #### Python Libraries For Bioinformatics\n",
    "    2.1 Gene Annotation  \n",
    "        2.1.1 Biopython  \n",
    "        2.1.2 Gffutils  \n",
    "        2.1.3 HTSeq  \n",
    "        2.1.4 Anvi'o  \n",
    "3. #### Sequence Alignment\n",
    "4. #### phylogenetic analysis. [opt]\n",
    "5. #### Efficiency Assessment\n",
    "6. #### Generating Random DNA Strings\n",
    "7. #### Measuring CPU Time\n",
    "8. #### Computing Frequencies\n"
   ]
  },
  {
   "attachments": {},
   "cell_type": "markdown",
   "metadata": {},
   "source": [
    "Counting Letters in DNA String\n",
    "One way to count the number of occurrences of each letter in a DNA string is to use the collections module, specifically the Counter class. Here's an example of how you might use it:"
   ]
  },
  {
   "cell_type": "code",
   "execution_count": 1,
   "metadata": {},
   "outputs": [
    {
     "name": "stdout",
     "output_type": "stream",
     "text": [
      "Counter({'A': 4, 'G': 4, 'C': 4, 'T': 4})\n"
     ]
    }
   ],
   "source": [
    "from collections import Counter\n",
    "\n",
    "dna_string = \"AGCTAGCTAGCTAGCT\"\n",
    "#for example - AGCTAGCTAGCTAGCT input(\"Enter DNA String: \")\n",
    "\n",
    "counts = Counter(dna_string) \n",
    "#The output will be the count of each letter in the DNA string, in the form of a dictionary\n",
    "print(counts)"
   ]
  },
  {
   "attachments": {},
   "cell_type": "markdown",
   "metadata": {},
   "source": [
    "##### Another Way\n",
    "Another way is using python's inbuilt function \" count() \""
   ]
  },
  {
   "cell_type": "code",
   "execution_count": 2,
   "metadata": {},
   "outputs": [
    {
     "name": "stdout",
     "output_type": "stream",
     "text": [
      "A: 4\n"
     ]
    }
   ],
   "source": [
    "dna_string = \"AGCTAGCTAGCTAGCT\"\n",
    "print(\"A:\",dna_string.count(\"A\")) \n",
    "#This can be repeated for each individual letter in the DNA String"
   ]
  },
  {
   "attachments": {},
   "cell_type": "markdown",
   "metadata": {},
   "source": [
    "Therefore we can develop a function within which a for loop is used to iterate over each letter in the string. Within the loop, the print() function is used to print out the current letter.\n",
    "The function \"dna_count\" below will help Loop over the letters in the string, testing if the current letter equals the desired one, and if so, increase the counter. \n",
    "This is easily done by converting a string to a list: Looping over the letters is easier if the letters are stored in a list."
   ]
  },
  {
   "cell_type": "code",
   "execution_count": 3,
   "metadata": {},
   "outputs": [
    {
     "data": {
      "text/plain": [
       "16"
      ]
     },
     "execution_count": 3,
     "metadata": {},
     "output_type": "execute_result"
    }
   ],
   "source": [
    "#Method One:\n",
    "#\n",
    "# When the function is called and passed a DNA string, it will print out each letter in the string \n",
    "# and return the frequency of each letter in the string\n",
    "#\n",
    "from collections import Counter\n",
    "def dna_count(dna_string):\n",
    "    i=0\n",
    "    dna_string = \"AGCTAGCTAGCTAGCT\"\n",
    "    #dna_string = input(\"Enter DNA String: \")\n",
    "    for letter in dna_string:\n",
    "        #print(letter)\n",
    "        i +=1\n",
    "    return i\n",
    "dna_count(dna_string)\n",
    "#print(Counter(dna_string))"
   ]
  },
  {
   "attachments": {},
   "cell_type": "markdown",
   "metadata": {},
   "source": [
    "### Method Two\n",
    "This is a Python function called count() that takes two inputs, a DNA string and a base (A, T, C, or G).\n",
    "\n",
    "The function uses a for loop to iterate over each letter in the input DNA string. Inside the loop, an if statement is used to check if the current letter being iterated over is equal to the input base. If the letter is equal to the base, the print() function is used to print out the current letter and the variable i is incremented by 1.\n",
    "\n",
    "The function ends with the return statement that returns the value of i which is the number of times the base is found in the DNA string.\n",
    "\n",
    "When the function is called and passed a DNA string and base, it will search the DNA string for the base, if found, it will print out the base and return the total number of times the base is found in the DNA string."
   ]
  },
  {
   "cell_type": "code",
   "execution_count": 23,
   "metadata": {},
   "outputs": [],
   "source": [
    "\n",
    "from collections import Counter\n",
    "def count(dna, base):\n",
    "    i=0\n",
    "    for letter in dna:\n",
    "        if letter == base:\n",
    "            i+=1\n",
    "            #print(Counter(letter))\n",
    "    return Counter(letter)\n",
    "\n",
    "#Take for example\n",
    "dna = 'ATGCGGACCTAT'\n",
    "base = input(\"Enter a DNA Letter\")\n",
    "n = count(dna, base)"
   ]
  },
  {
   "attachments": {},
   "cell_type": "markdown",
   "metadata": {},
   "source": [
    "#### Adding a Check\n",
    "We can also add a check to make sure that the base passed is valid. If the base passed is valid i.e one of the four letters of DNA, if the base passed is not valid, the function will return an error message."
   ]
  },
  {
   "cell_type": "code",
   "execution_count": null,
   "metadata": {},
   "outputs": [],
   "source": [
    "def count(dna, base):\n",
    "    if base not in ['A', 'T', 'C', 'G']:\n",
    "        return \"Invalid base, please enter A, T, C, or G\"\n",
    "    i=0\n",
    "    for letter in dna:\n",
    "        if letter == base:\n",
    "            i+=1\n",
    "    return i"
   ]
  },
  {
   "attachments": {},
   "cell_type": "markdown",
   "metadata": {},
   "source": [
    "Both methods can be used to count the letters in DNA strings, but the collections.\n",
    "Counter method is more concise and efficient for longer DNA strings."
   ]
  },
  {
   "attachments": {},
   "cell_type": "markdown",
   "metadata": {},
   "source": [
    "##### Function to reverse words in a string\n",
    "This function will take a string as an input, reverse the order of the words in the string and return the reversed string."
   ]
  },
  {
   "cell_type": "code",
   "execution_count": 6,
   "metadata": {},
   "outputs": [],
   "source": [
    "def rev_words(string):\n",
    "    words = string.split(' ') \n",
    "    rev_string = ' '.join(reversed(words))\n",
    "    return rev_string"
   ]
  }
 ],
 "metadata": {
  "kernelspec": {
   "display_name": "cancer",
   "language": "python",
   "name": "python3"
  },
  "language_info": {
   "codemirror_mode": {
    "name": "ipython",
    "version": 3
   },
   "file_extension": ".py",
   "mimetype": "text/x-python",
   "name": "python",
   "nbconvert_exporter": "python",
   "pygments_lexer": "ipython3",
   "version": "3.7.15"
  },
  "orig_nbformat": 4,
  "vscode": {
   "interpreter": {
    "hash": "37d6b0c99cc3b75e6e1973183be7236aa36f00006fb16b24f597c62e2a77aa3f"
   }
  }
 },
 "nbformat": 4,
 "nbformat_minor": 2
}
