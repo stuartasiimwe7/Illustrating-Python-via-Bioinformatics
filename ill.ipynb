{
 "cells": [
  {
   "attachments": {},
   "cell_type": "markdown",
   "metadata": {},
   "source": [
    "In order to illustrate the use of Python in bioinformatics one should be able to show how it can be used to analyze and manipulate biological data, such as DNA sequences. \n",
    "For example, you could demonstrate how to use Python libraries such as Biopython to perform tasks such as sequence alignment, gene annotation, and phylogenetic analysis. \n",
    "Additionally, you could show how Python can be used in conjunction with other bioinformatics tools, such as Blast, to automate and streamline various bioinformatics workflow. Another way to utilize the capabilities of Python in bioinformatics is through data visualization, which can be achieved by utilizing libraries such as matplotlib, seaborn and plotly."
   ]
  },
  {
   "attachments": {},
   "cell_type": "markdown",
   "metadata": {},
   "source": [
    "Counting Letters in DNA String\n",
    "One way to count the number of occurrences of each letter in a DNA string is to use the collections module, specifically the Counter class. Here's an example of how you might use it:"
   ]
  },
  {
   "cell_type": "code",
   "execution_count": 1,
   "metadata": {},
   "outputs": [
    {
     "name": "stdout",
     "output_type": "stream",
     "text": [
      "Counter({'A': 4, 'G': 4, 'C': 4, 'T': 4})\n"
     ]
    }
   ],
   "source": [
    "from collections import Counter\n",
    "\n",
    "dna_string = input(\"Enter DNA String: \")\n",
    "#for example - AGCTAGCTAGCTAGCT\n",
    "\n",
    "counts = Counter(dna_string) \n",
    "#The output will be the count of each letter in the DNA string, in the form of a dictionary\n",
    "print(counts)"
   ]
  },
  {
   "attachments": {},
   "cell_type": "markdown",
   "metadata": {},
   "source": [
    "Another way is using python's inbuilt function \" count() \""
   ]
  },
  {
   "cell_type": "code",
   "execution_count": 2,
   "metadata": {},
   "outputs": [
    {
     "name": "stdout",
     "output_type": "stream",
     "text": [
      "A: 4\n"
     ]
    }
   ],
   "source": [
    "dna_string = \"AGCTAGCTAGCTAGCT\"\n",
    "print(\"A:\",dna_string.count(\"A\")) \n",
    "#This can be repeated for each individual letter in the DNA String"
   ]
  },
  {
   "attachments": {},
   "cell_type": "markdown",
   "metadata": {},
   "source": [
    "Therefore we can develop a function within which a for loop is used to iterate over each letter in the string. Within the loop, the print() function is used to print out the current letter.\n",
    "The function \"dna_count\" below will help Loop over the letters in the string, testing if the current letter equals the desired one, and if so, increase the counter. \n",
    "This is easily done by converting a string to a list: Looping over the letters is easier if the letters are stored in a list."
   ]
  },
  {
   "cell_type": "code",
   "execution_count": 12,
   "metadata": {},
   "outputs": [
    {
     "name": "stdout",
     "output_type": "stream",
     "text": [
      "A\n",
      "T\n",
      "G\n",
      "C\n",
      "G\n",
      "G\n",
      "A\n",
      "C\n",
      "C\n",
      "T\n",
      "A\n",
      "T\n",
      "Counter({'A': 4, 'G': 4, 'C': 4, 'T': 4})\n"
     ]
    }
   ],
   "source": [
    "#Method One:\n",
    "#\n",
    "# When the function is called and passed a DNA string, it will print out each letter in the string \n",
    "# and return the frequency of each letter in the string\n",
    "#\n",
    "from collections import Counter\n",
    "def dna_count(dna_string):\n",
    "    i=0\n",
    "    dna_string = input(\"Enter DNA String: \")\n",
    "    for letter in dna_string:\n",
    "        print(letter)\n",
    "        i +=1\n",
    "    return i\n",
    "dna_count(dna_string)\n",
    "print(Counter(dna_string))"
   ]
  },
  {
   "attachments": {},
   "cell_type": "markdown",
   "metadata": {},
   "source": [
    "# Method Two\n",
    "This is a Python function called count() that takes two inputs, a DNA string and a base (A, T, C, or G).\n",
    "\n",
    "The function uses a for loop to iterate over each letter in the input DNA string. Inside the loop, an if statement is used to check if the current letter being iterated over is equal to the input base. If the letter is equal to the base, the print() function is used to print out the current letter and the variable i is incremented by 1.\n",
    "\n",
    "The function ends with the return statement that returns the value of i which is the number of times the base is found in the DNA string.\n",
    "\n",
    "When the function is called and passed a DNA string and base, it will search the DNA string for the base, if found, it will print out the base and return the total number of times the base is found in the DNA string."
   ]
  },
  {
   "cell_type": "code",
   "execution_count": null,
   "metadata": {},
   "outputs": [],
   "source": [
    "def count(dna, base):\n",
    "    i=0\n",
    "    for letter in dna:\n",
    "        if letter == base:\n",
    "            print(letter)\n",
    "            i+=1\n",
    "    return i\n",
    "#Take for example\n",
    "dna = 'ATGCGGACCTAT'\n",
    "base = 'C'\n",
    "n = count(dna, base)"
   ]
  },
  {
   "attachments": {},
   "cell_type": "markdown",
   "metadata": {},
   "source": [
    "Both methods can be used to count the letters in DNA strings, but the collections.\n",
    "Counter method is more concise and efficient for longer DNA strings."
   ]
  },
  {
   "cell_type": "code",
   "execution_count": 8,
   "metadata": {},
   "outputs": [
    {
     "name": "stdout",
     "output_type": "stream",
     "text": [
      "amaama String is symmetrical\n",
      "amaama String is Palindrone\n"
     ]
    }
   ],
   "source": [
    "string = input(\"Enter a string\")\n",
    "half = int(len(string)/2)\n",
    "\n",
    "if len(string)% 2 == 0: #even\n",
    "    first_str = string[:half]\n",
    "    second_str = string[half:]\n",
    "else:\n",
    "    first_str = string[:half]\n",
    "    second_str = string[half+1:]\n",
    "\n",
    "#symmetric\n",
    "if first_str == second_str:\n",
    "    print(string,'String is symmetrical')\n",
    "else:\n",
    "    print(string,'String is not symmetrical')\n",
    "\n",
    "#Palindrome\n",
    "if first_str ==second_str[::-1]:\n",
    "    print(string,'String is Palindrone')\n",
    "else:\n",
    "    print(string, 'String is not Palindrome')"
   ]
  },
  {
   "cell_type": "code",
   "execution_count": 13,
   "metadata": {},
   "outputs": [
    {
     "name": "stdout",
     "output_type": "stream",
     "text": [
      "racecar  =is the equal to= racecar\n"
     ]
    }
   ],
   "source": [
    "string = input(\"Enter String: \")\n",
    "rev_str = string[::-1] #Reverse the string\n",
    "if string  == rev_str:\n",
    "    print(string,' =is the equal to=',rev_str)\n",
    "else:\n",
    "    print('Not Palindrome')"
   ]
  },
  {
   "cell_type": "code",
   "execution_count": 6,
   "metadata": {},
   "outputs": [],
   "source": [
    "#Function to reverse words in a string\n",
    "def rev_words(string):\n",
    "    words = string.split(' ') #first split string into words\n",
    "    #then rev the split words and \n",
    "    #then join them with a space in betweeen\n",
    "    rev_string = ' '.join(reversed(words))\n",
    "    return rev_string"
   ]
  },
  {
   "cell_type": "code",
   "execution_count": 7,
   "metadata": {},
   "outputs": [
    {
     "name": "stdout",
     "output_type": "stream",
     "text": [
      "Stuart is name My\n"
     ]
    }
   ],
   "source": [
    "test = input(\"Enter a string of words: \") #User input\n",
    "#enter a sentence\n",
    "#call the defined function\n",
    "print(rev_words(test))\n"
   ]
  }
 ],
 "metadata": {
  "kernelspec": {
   "display_name": "base",
   "language": "python",
   "name": "python3"
  },
  "language_info": {
   "codemirror_mode": {
    "name": "ipython",
    "version": 3
   },
   "file_extension": ".py",
   "mimetype": "text/x-python",
   "name": "python",
   "nbconvert_exporter": "python",
   "pygments_lexer": "ipython3",
   "version": "3.9.12"
  },
  "orig_nbformat": 4,
  "vscode": {
   "interpreter": {
    "hash": "62fecb25abd4c447497fd23f5e2503c7ee19ef7304f9e535e2f4672bf3e57901"
   }
  }
 },
 "nbformat": 4,
 "nbformat_minor": 2
}
