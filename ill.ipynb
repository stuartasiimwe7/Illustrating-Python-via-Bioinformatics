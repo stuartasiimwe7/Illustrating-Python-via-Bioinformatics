{
 "cells": [
  {
   "attachments": {},
   "cell_type": "markdown",
   "metadata": {},
   "source": [
    "Counting Letters in DNA String\n",
    "Loop over the letters in the string, test if the current letter equals the desired one, and if so, increase the counter. \n",
    "This is easily done by converting a string to a list: Looping over the letters is easier if the letters are stored in a list."
   ]
  },
  {
   "cell_type": "code",
   "execution_count": 6,
   "metadata": {},
   "outputs": [
    {
     "name": "stdout",
     "output_type": "stream",
     "text": [
      "ATGC\n"
     ]
    }
   ],
   "source": [
    "dna = 'ATGC'\n",
    "print(dna)"
   ]
  },
  {
   "cell_type": "code",
   "execution_count": 8,
   "metadata": {},
   "outputs": [
    {
     "name": "stdout",
     "output_type": "stream",
     "text": [
      "A\n",
      "T\n",
      "G\n",
      "C\n"
     ]
    }
   ],
   "source": [
    "for a in dna:\n",
    "    print(a)"
   ]
  },
  {
   "cell_type": "code",
   "execution_count": 2,
   "metadata": {},
   "outputs": [],
   "source": [
    "def count(dna, base):\n",
    "    i=0\n",
    "    for a in dna:\n",
    "        if a == base:\n",
    "            i+=1\n",
    "    return i\n",
    "\n",
    "dna = 'ATGCGGACCTAT'\n",
    "base = 'C'\n",
    "n = count(dna, base)"
   ]
  },
  {
   "cell_type": "code",
   "execution_count": 8,
   "metadata": {},
   "outputs": [
    {
     "name": "stdout",
     "output_type": "stream",
     "text": [
      "amaama String is symmetrical\n",
      "amaama String is Palindrone\n"
     ]
    }
   ],
   "source": [
    "string = input(\"Enter a string\")\n",
    "half = int(len(string)/2)\n",
    "\n",
    "if len(string)% 2 == 0: #even\n",
    "    first_str = string[:half]\n",
    "    second_str = string[half:]\n",
    "else:\n",
    "    first_str = string[:half]\n",
    "    second_str = string[half+1:]\n",
    "\n",
    "#symmetric\n",
    "if first_str == second_str:\n",
    "    print(string,'String is symmetrical')\n",
    "else:\n",
    "    print(string,'String is not symmetrical')\n",
    "\n",
    "#Palindrome\n",
    "if first_str ==second_str[::-1]:\n",
    "    print(string,'String is Palindrone')\n",
    "else:\n",
    "    print(string, 'String is not Palindrome')"
   ]
  },
  {
   "cell_type": "code",
   "execution_count": 13,
   "metadata": {},
   "outputs": [
    {
     "name": "stdout",
     "output_type": "stream",
     "text": [
      "racecar  =is the equal to= racecar\n"
     ]
    }
   ],
   "source": [
    "string = input(\"Enter String: \")\n",
    "rev_str = string[::-1] #Reverse the string\n",
    "if string  == rev_str:\n",
    "    print(string,' =is the equal to=',rev_str)\n",
    "else:\n",
    "    print('Not Palindrome')"
   ]
  },
  {
   "cell_type": "code",
   "execution_count": null,
   "metadata": {},
   "outputs": [],
   "source": [
    "def symmetry(a):\n",
    "    n = len(a)\n",
    "    flag = 0\n",
    "\n",
    "    if n%2:\n",
    "        mid = n//2 +1\n",
    "    else:"
   ]
  }
 ],
 "metadata": {
  "kernelspec": {
   "display_name": "base",
   "language": "python",
   "name": "python3"
  },
  "language_info": {
   "codemirror_mode": {
    "name": "ipython",
    "version": 3
   },
   "file_extension": ".py",
   "mimetype": "text/x-python",
   "name": "python",
   "nbconvert_exporter": "python",
   "pygments_lexer": "ipython3",
   "version": "3.9.12"
  },
  "orig_nbformat": 4,
  "vscode": {
   "interpreter": {
    "hash": "62fecb25abd4c447497fd23f5e2503c7ee19ef7304f9e535e2f4672bf3e57901"
   }
  }
 },
 "nbformat": 4,
 "nbformat_minor": 2
}
