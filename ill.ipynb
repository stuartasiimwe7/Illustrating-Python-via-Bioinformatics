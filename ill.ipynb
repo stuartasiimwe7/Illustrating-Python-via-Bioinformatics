{
 "cells": [
  {
   "attachments": {},
   "cell_type": "markdown",
   "metadata": {},
   "source": [
    "# ILLUSTRATING PYTHON VIA BIOINFORMATICS\n",
    "In order to illustrate the use of Python in bioinformatics one should be able to show how it can be used to analyze and manipulate biological data, such as DNA sequences. \n",
    "For example, you could demonstrate how to use Python libraries such as Biopython to perform tasks such as sequence alignment, gene annotation, and phylogenetic analysis. \n",
    "Additionally, you could show how Python can be used in conjunction with other bioinformatics tools, such as Blast, to automate and streamline various bioinformatics workflow. Another way to utilize the capabilities of Python in bioinformatics is through data visualization, which can be achieved by utilizing libraries such as matplotlib, seaborn and plotly."
   ]
  },
  {
   "attachments": {},
   "cell_type": "markdown",
   "metadata": {},
   "source": [
    "## Table of Contents\n",
    "1. ### Basics\n",
    "    1.1 Python DNA Strings Manipulation  \n",
    "    1.2 Python Symmetrical or Palindrome string Confirmation  \n",
    "2. ### Python Libraries For Bioinformatics\n",
    "    2.1 Gene Annotation  \n",
    "        2.1.1 Biopython  \n",
    "        2.1.2 Gffutils  \n",
    "        2.1.3 HTSeq  \n",
    "        2.1.4 Anvi'o  \n",
    "    2.2 Sequence Alignment\n",
    "    2.3 phylogenetic analysis. [opt]\n"
   ]
  },
  {
   "cell_type": "code",
   "execution_count": 2,
   "metadata": {},
   "outputs": [
    {
     "name": "stdout",
     "output_type": "stream",
     "text": [
      "ACTGA-C-G\n",
      "||| | | |\n",
      "ACT-AGCAG\n",
      "  Score=6\n",
      "\n"
     ]
    },
    {
     "name": "stderr",
     "output_type": "stream",
     "text": [
      "c:\\Users\\Asiimwe\\anaconda3\\envs\\cancer\\lib\\site-packages\\Bio\\pairwise2.py:283: BiopythonDeprecationWarning: Bio.pairwise2 has been deprecated, and we intend to remove it in a future release of Biopython. As an alternative, please consider using Bio.Align.PairwiseAligner as a replacement, and contact the Biopython developers if you still need the Bio.pairwise2 module.\n",
      "  BiopythonDeprecationWarning,\n"
     ]
    }
   ],
   "source": [
    "from Bio import pairwise2\n",
    "\n",
    "seq1 = \"ACTGACG\"\n",
    "seq2 = \"ACTAGCAG\"\n",
    "\n",
    "alignments = pairwise2.align.globalxx(seq1, seq2)\n",
    "\n",
    "# print the best alignment\n",
    "print(pairwise2.format_alignment(*alignments[0]))\n"
   ]
  },
  {
   "attachments": {},
   "cell_type": "markdown",
   "metadata": {},
   "source": [
    "Counting Letters in DNA String\n",
    "One way to count the number of occurrences of each letter in a DNA string is to use the collections module, specifically the Counter class. Here's an example of how you might use it:"
   ]
  },
  {
   "cell_type": "code",
   "execution_count": 1,
   "metadata": {},
   "outputs": [
    {
     "name": "stdout",
     "output_type": "stream",
     "text": [
      "Counter({'A': 4, 'G': 4, 'C': 4, 'T': 4})\n"
     ]
    }
   ],
   "source": [
    "from collections import Counter\n",
    "\n",
    "dna_string = input(\"Enter DNA String: \")\n",
    "#for example - AGCTAGCTAGCTAGCT\n",
    "\n",
    "counts = Counter(dna_string) \n",
    "#The output will be the count of each letter in the DNA string, in the form of a dictionary\n",
    "print(counts)"
   ]
  },
  {
   "attachments": {},
   "cell_type": "markdown",
   "metadata": {},
   "source": [
    "Another way is using python's inbuilt function \" count() \""
   ]
  },
  {
   "cell_type": "code",
   "execution_count": 2,
   "metadata": {},
   "outputs": [
    {
     "name": "stdout",
     "output_type": "stream",
     "text": [
      "A: 4\n"
     ]
    }
   ],
   "source": [
    "dna_string = \"AGCTAGCTAGCTAGCT\"\n",
    "print(\"A:\",dna_string.count(\"A\")) \n",
    "#This can be repeated for each individual letter in the DNA String"
   ]
  },
  {
   "attachments": {},
   "cell_type": "markdown",
   "metadata": {},
   "source": [
    "Therefore we can develop a function within which a for loop is used to iterate over each letter in the string. Within the loop, the print() function is used to print out the current letter.\n",
    "The function \"dna_count\" below will help Loop over the letters in the string, testing if the current letter equals the desired one, and if so, increase the counter. \n",
    "This is easily done by converting a string to a list: Looping over the letters is easier if the letters are stored in a list."
   ]
  },
  {
   "cell_type": "code",
   "execution_count": 12,
   "metadata": {},
   "outputs": [
    {
     "name": "stdout",
     "output_type": "stream",
     "text": [
      "A\n",
      "T\n",
      "G\n",
      "C\n",
      "G\n",
      "G\n",
      "A\n",
      "C\n",
      "C\n",
      "T\n",
      "A\n",
      "T\n",
      "Counter({'A': 4, 'G': 4, 'C': 4, 'T': 4})\n"
     ]
    }
   ],
   "source": [
    "#Method One:\n",
    "#\n",
    "# When the function is called and passed a DNA string, it will print out each letter in the string \n",
    "# and return the frequency of each letter in the string\n",
    "#\n",
    "from collections import Counter\n",
    "def dna_count(dna_string):\n",
    "    i=0\n",
    "    dna_string = input(\"Enter DNA String: \")\n",
    "    for letter in dna_string:\n",
    "        print(letter)\n",
    "        i +=1\n",
    "    return i\n",
    "dna_count(dna_string)\n",
    "print(Counter(dna_string))"
   ]
  },
  {
   "attachments": {},
   "cell_type": "markdown",
   "metadata": {},
   "source": [
    "# Method Two\n",
    "This is a Python function called count() that takes two inputs, a DNA string and a base (A, T, C, or G).\n",
    "\n",
    "The function uses a for loop to iterate over each letter in the input DNA string. Inside the loop, an if statement is used to check if the current letter being iterated over is equal to the input base. If the letter is equal to the base, the print() function is used to print out the current letter and the variable i is incremented by 1.\n",
    "\n",
    "The function ends with the return statement that returns the value of i which is the number of times the base is found in the DNA string.\n",
    "\n",
    "When the function is called and passed a DNA string and base, it will search the DNA string for the base, if found, it will print out the base and return the total number of times the base is found in the DNA string."
   ]
  },
  {
   "cell_type": "code",
   "execution_count": 23,
   "metadata": {},
   "outputs": [],
   "source": [
    "\n",
    "from collections import Counter\n",
    "def count(dna, base):\n",
    "    i=0\n",
    "    for letter in dna:\n",
    "        if letter == base:\n",
    "            i+=1\n",
    "            #print(Counter(letter))\n",
    "    return Counter(letter)\n",
    "\n",
    "#Take for example\n",
    "dna = 'ATGCGGACCTAT'\n",
    "base = input(\"Enter a DNA Letter\")\n",
    "n = count(dna, base)"
   ]
  },
  {
   "attachments": {},
   "cell_type": "markdown",
   "metadata": {},
   "source": [
    "# Adding a Check\n",
    "We can also add a check to make sure that the base passed is valid. If the base passed is valid i.e one of the four letters of DNA, if the base passed is not valid, the function will return an error message."
   ]
  },
  {
   "cell_type": "code",
   "execution_count": null,
   "metadata": {},
   "outputs": [],
   "source": [
    "def count(dna, base):\n",
    "    if base not in ['A', 'T', 'C', 'G']:\n",
    "        return \"Invalid base, please enter A, T, C, or G\"\n",
    "    i=0\n",
    "    for letter in dna:\n",
    "        if letter == base:\n",
    "            i+=1\n",
    "    return i"
   ]
  },
  {
   "attachments": {},
   "cell_type": "markdown",
   "metadata": {},
   "source": [
    "Both methods can be used to count the letters in DNA strings, but the collections.\n",
    "Counter method is more concise and efficient for longer DNA strings."
   ]
  },
  {
   "cell_type": "code",
   "execution_count": 8,
   "metadata": {},
   "outputs": [
    {
     "name": "stdout",
     "output_type": "stream",
     "text": [
      "amaama String is symmetrical\n",
      "amaama String is Palindrone\n"
     ]
    }
   ],
   "source": [
    "string = input(\"Enter a string\")\n",
    "half = int(len(string)/2)\n",
    "\n",
    "if len(string)% 2 == 0: #even\n",
    "    first_str = string[:half]\n",
    "    second_str = string[half:]\n",
    "else:\n",
    "    first_str = string[:half]\n",
    "    second_str = string[half+1:]\n",
    "\n",
    "#symmetric\n",
    "if first_str == second_str:\n",
    "    print(string,'String is symmetrical')\n",
    "else:\n",
    "    print(string,'String is not symmetrical')\n",
    "\n",
    "#Palindrome\n",
    "if first_str ==second_str[::-1]:\n",
    "    print(string,'String is Palindrone')\n",
    "else:\n",
    "    print(string, 'String is not Palindrome')"
   ]
  },
  {
   "cell_type": "code",
   "execution_count": 13,
   "metadata": {},
   "outputs": [
    {
     "name": "stdout",
     "output_type": "stream",
     "text": [
      "racecar  =is the equal to= racecar\n"
     ]
    }
   ],
   "source": [
    "string = input(\"Enter String: \")\n",
    "rev_str = string[::-1] #Reverse the string\n",
    "if string  == rev_str:\n",
    "    print(string,' =is the equal to=',rev_str)\n",
    "else:\n",
    "    print('Not Palindrome')"
   ]
  },
  {
   "attachments": {},
   "cell_type": "markdown",
   "metadata": {},
   "source": [
    "#### Function to reverse words in a string\n",
    "This function will take a string as an input, reverse the order of the words in the string and return the reversed string."
   ]
  },
  {
   "cell_type": "code",
   "execution_count": 6,
   "metadata": {},
   "outputs": [],
   "source": [
    "def rev_words(string):\n",
    "    words = string.split(' ') \n",
    "    rev_string = ' '.join(reversed(words))\n",
    "    return rev_string"
   ]
  }
 ],
 "metadata": {
  "kernelspec": {
   "display_name": "cancer",
   "language": "python",
   "name": "python3"
  },
  "language_info": {
   "codemirror_mode": {
    "name": "ipython",
    "version": 3
   },
   "file_extension": ".py",
   "mimetype": "text/x-python",
   "name": "python",
   "nbconvert_exporter": "python",
   "pygments_lexer": "ipython3",
   "version": "3.7.15 (default, Nov 24 2022, 18:44:54) [MSC v.1916 64 bit (AMD64)]"
  },
  "orig_nbformat": 4,
  "vscode": {
   "interpreter": {
    "hash": "37d6b0c99cc3b75e6e1973183be7236aa36f00006fb16b24f597c62e2a77aa3f"
   }
  }
 },
 "nbformat": 4,
 "nbformat_minor": 2
}
